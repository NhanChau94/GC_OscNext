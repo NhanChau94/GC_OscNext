{
 "cells": [
  {
   "cell_type": "code",
   "execution_count": 2,
   "metadata": {},
   "outputs": [],
   "source": [
    "import os"
   ]
  },
  {
   "cell_type": "code",
   "execution_count": 5,
   "metadata": {},
   "outputs": [],
   "source": [
    "path = '/home/tchau/code/condor_submit/OscNext/'\n",
    "if not (os.path.exists(path)): os.makedirs(path)\n",
    "cfig_file = '/home/tchau/code/condor_submit/OscNext/dagman.config'\n",
    "with open(cfig_file, 'w') as c:\n",
    "    c.write('DAGMAN_MAX_JOBS_SUBMITTED=500'+'\\n')\n",
    "    c.write('DAGMAN_MAX_SUBMIT_PER_INTERVAL=20'+'\\n')\n",
    "    c.write('DAGMAN_USER_LOG_SCAN_INTERVAL=10'+'\\n')\n",
    "    c.close()\n",
    "\n",
    "sub_file = '/home/tchau/code/condor_submit/OscNext/Sample.submit'\n",
    "with open(sub_file, 'w') as s:\n",
    "    s.write('executable = /data/user/tchau/Sandbox/GC_OscNext/Samples/OscNext_hdf5topkl.py'+'\\n')\n",
    "    s.write('\\n')\n",
    "    s.write('initialdir = /data/user/tchau/'+'\\n')\n",
    "    s.write('logdir = /scratch/tchau/DM_OscNext/MakePDF/logs/'+'\\n')\n",
    "    s.write('output = $(logdir)$(JOBNAME).$(Cluster).out'+'\\n')\n",
    "    s.write('error = $(logdir)$(JOBNAME).$(Cluster).err'+'\\n')\n",
    "    s.write('log = $(logdir)$(JOBNAME).$(Cluster).log'+'\\n')\n",
    "    s.write('\\n')\n",
    "    s.write('notification   = never'+'\\n')\n",
    "    s.write('universe       = vanilla'+'\\n')\n",
    "    s.write('\\n')\n",
    "    s.write('should_transfer_files = YES'+'\\n')\n",
    "    s.write('request_memory = 5GB'+'\\n')\n",
    "    s.write('\\n')\n",
    "    s.write('arguments = -n $(nu) -s $(set)'+'\\n')\n",
    "    s.write('queue')\n",
    "    s.close()\n",
    "\n"
   ]
  },
  {
   "cell_type": "code",
   "execution_count": 6,
   "metadata": {},
   "outputs": [],
   "source": [
    "nutypes=[\"12\", \"14\", \"16\"]\n",
    "set='1122'\n",
    "submit = '/home/tchau/code/condor_submit/OscNext/submit.sh'\n",
    "with open(submit, 'w') as s:\n",
    "    s.write(\"#!/bin/sh\\n\")\n",
    "    for nu in nutypes:\n",
    "        path = '/home/tchau/code/condor_submit/OscNext'\n",
    "        dag_file = '{}/OscNextSample_{}{}.dag'.format(path, nu, set)\n",
    "        with open(dag_file, 'w') as f:\n",
    "            f.write('JOB OscNextSample_{}{}'.format(nu, set)+' Sample.submit \\n')\n",
    "            f.write('VARS OscNextSample_{}{}'.format(nu, set)+' JOBNAME=\"OscNextSample_{}{}\"'.format(nu, set) +' nu=\"{}\" set=\"{}\"'.format(nu, set)+'\\n')\n",
    "        f.close()\n",
    "        s.write(\"condor_submit_dag -config dagman.config {} \\n\".format(dag_file))\n",
    "s.close()"
   ]
  },
  {
   "cell_type": "code",
   "execution_count": null,
   "metadata": {},
   "outputs": [],
   "source": []
  }
 ],
 "metadata": {
  "kernelspec": {
   "display_name": "Python 3.7.5 64-bit",
   "language": "python",
   "name": "python3"
  },
  "language_info": {
   "codemirror_mode": {
    "name": "ipython",
    "version": 3
   },
   "file_extension": ".py",
   "mimetype": "text/x-python",
   "name": "python",
   "nbconvert_exporter": "python",
   "pygments_lexer": "ipython3",
   "version": "3.7.5"
  },
  "orig_nbformat": 4,
  "vscode": {
   "interpreter": {
    "hash": "84067930ed89f2593bb91d950da6b1dbb20734c45bac648e0897da8a2cb00bd6"
   }
  }
 },
 "nbformat": 4,
 "nbformat_minor": 2
}
