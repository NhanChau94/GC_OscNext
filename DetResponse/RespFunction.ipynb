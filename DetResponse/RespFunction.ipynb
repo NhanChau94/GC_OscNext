{
 "cells": [
  {
   "cell_type": "code",
   "execution_count": 2,
   "metadata": {},
   "outputs": [],
   "source": [
    "%matplotlib inline\n",
    "%load_ext autoreload\n",
    "%autoreload 2\n",
    "import numpy as np\n",
    "from Detector import *"
   ]
  },
  {
   "cell_type": "code",
   "execution_count": 2,
   "metadata": {},
   "outputs": [],
   "source": [
    "MCdict = ExtractMC()"
   ]
  },
  {
   "cell_type": "code",
   "execution_count": 3,
   "metadata": {},
   "outputs": [],
   "source": [
    "\n",
    "# Binning:\n",
    "mass = 1000\n",
    "# E true\n",
    "Etrue_center = np.linspace(1., mass, 100)\n",
    "Ewidth = (mass-1.)/(100.-1.)\n",
    "Etrue_edges = [E - Ewidth/2. for E in Etrue_center]\n",
    "Etrue_edges.append(Etrue_center[-1] + Ewidth/2.)\n",
    "# Psi true\n",
    "Psitrue_edges = np.linspace(0, 180, 51)\n",
    "Psiwidth = 180./50.\n",
    "Psitrue_center = np.array([Psitrue_edges[i]+Psiwidth/2. for i in range(len(Psitrue_edges)-1)])\n",
    "# E reco\n",
    "Ereco_edges = pow(10., np.linspace(np.log10(1.), np.log10(1e3), 50+1))\n",
    "Ereco_center = np.array([np.sqrt(Ereco_edges[i]*Ereco_edges[i+1]) for i in range(len(Ereco_edges) - 1)])\n",
    "# Psi reco\n",
    "Psireco_edges = np.linspace(0., 180., 18+1)\n",
    "Psireco_center = np.array( [(Psireco_edges[i]+Psireco_edges[i+1])/2. for i in range(len(Psireco_edges)-1)] )\n",
    "\n",
    "# PID\n",
    "PID_edges = np.array([0.,0.5,0.85,1.])\n",
    "PID_center = np.array( [(PID_edges[i]+PID_edges[i+1])/2. for i in range(len(PID_edges)-1)] )\n",
    "\n",
    "Bin = GroupBinning(Etrue_edges, Psitrue_edges, Etrue_center, Psitrue_center,\n",
    "                Ereco_edges, Psireco_edges, Ereco_center, Psireco_center, PID_edges, PID_center)"
   ]
  },
  {
   "cell_type": "code",
   "execution_count": 4,
   "metadata": {},
   "outputs": [],
   "source": [
    "res = EnergyResolution(MCdict, Bin)\n"
   ]
  },
  {
   "cell_type": "code",
   "execution_count": 4,
   "metadata": {},
   "outputs": [
    {
     "data": {
      "text/plain": [
       "array([  1.,   2.,   3.,   4.,   5.,   6.,   7.,   8.,   9.,  10.,  11.,\n",
       "        12.,  13.,  14.,  15.,  16.,  17.,  18.,  19.,  20.,  21.,  22.,\n",
       "        23.,  24.,  25.,  26.,  27.,  28.,  29.,  30.,  31.,  32.,  33.,\n",
       "        34.,  35.,  36.,  37.,  38.,  39.,  40.,  41.,  42.,  43.,  44.,\n",
       "        45.,  46.,  47.,  48.,  49.,  50.,  51.,  52.,  53.,  54.,  55.,\n",
       "        56.,  57.,  58.,  59.,  60.,  61.,  62.,  63.,  64.,  65.,  66.,\n",
       "        67.,  68.,  69.,  70.,  71.,  72.,  73.,  74.,  75.,  76.,  77.,\n",
       "        78.,  79.,  80.,  81.,  82.,  83.,  84.,  85.,  86.,  87.,  88.,\n",
       "        89.,  90.,  91.,  92.,  93.,  94.,  95.,  96.,  97.,  98.,  99.,\n",
       "       100.])"
      ]
     },
     "execution_count": 4,
     "metadata": {},
     "output_type": "execute_result"
    }
   ],
   "source": [
    "Bin[\"true_energy_center\"]"
   ]
  },
  {
   "cell_type": "code",
   "execution_count": null,
   "metadata": {},
   "outputs": [],
   "source": []
  }
 ],
 "metadata": {
  "kernelspec": {
   "display_name": "Python 3.7.5 64-bit",
   "language": "python",
   "name": "python3"
  },
  "language_info": {
   "codemirror_mode": {
    "name": "ipython",
    "version": 3
   },
   "file_extension": ".py",
   "mimetype": "text/x-python",
   "name": "python",
   "nbconvert_exporter": "python",
   "pygments_lexer": "ipython3",
   "version": "3.7.5"
  },
  "orig_nbformat": 4,
  "vscode": {
   "interpreter": {
    "hash": "84067930ed89f2593bb91d950da6b1dbb20734c45bac648e0897da8a2cb00bd6"
   }
  }
 },
 "nbformat": 4,
 "nbformat_minor": 2
}
