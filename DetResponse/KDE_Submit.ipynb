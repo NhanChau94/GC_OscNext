{
 "cells": [
  {
   "attachments": {},
   "cell_type": "markdown",
   "metadata": {},
   "source": [
    "Precomputed response matrix in logE and normal psi for multiple MC set"
   ]
  },
  {
   "cell_type": "code",
   "execution_count": 2,
   "metadata": {},
   "outputs": [],
   "source": [
    "cfig_file = '/home/tchau/code/condor_submit/RespMatrix/dagman.config'\n",
    "with open(cfig_file, 'w') as c:\n",
    "    c.write('DAGMAN_MAX_JOBS_SUBMITTED=100'+'\\n')\n",
    "    c.write('DAGMAN_MAX_SUBMIT_PER_INTERVAL=20'+'\\n')\n",
    "    c.write('DAGMAN_USER_LOG_SCAN_INTERVAL=10'+'\\n')\n",
    "    c.close()\n",
    "\n",
    "sub_file = '/home/tchau/code/condor_submit/RespMatrix/Resp.submit'\n",
    "with open(sub_file, 'w') as s:\n",
    "    s.write('executable = /data/user/tchau/Sandbox/GC_OscNext/DetResponse/RespMatrix.py'+'\\n')\n",
    "    s.write('\\n')\n",
    "    s.write('initialdir = /data/user/tchau/'+'\\n')\n",
    "    s.write('logdir = /scratch/tchau/DM_OscNext/MakePDF/logs/'+'\\n')\n",
    "    s.write('output = $(logdir)$(JOBNAME).$(Cluster).out'+'\\n')\n",
    "    s.write('error = $(logdir)$(JOBNAME).$(Cluster).err'+'\\n')\n",
    "    s.write('log = $(logdir)$(JOBNAME).$(Cluster).log'+'\\n')\n",
    "    s.write('\\n')\n",
    "    s.write('notification   = never'+'\\n')\n",
    "    s.write('universe       = vanilla'+'\\n')\n",
    "    s.write('\\n')\n",
    "    s.write('should_transfer_files = YES'+'\\n')\n",
    "    s.write('request_memory = 25GB'+'\\n')\n",
    "    s.write('getenv = True'+'\\n')\n",
    "\n",
    "    s.write('\\n')\n",
    "    s.write('arguments = -s $(set)'+'\\n')\n",
    "    s.write('queue')\n",
    "    s.close()\n",
    "\n",
    "# set = ['0000', '0001', '0004', '0100', '0101', '0102', '0103', '0104', '0105', '0106', '0107', '0109', '0152', '0500', '0501', '0502', '0503', '1122']\n",
    "set = ['1122','1124', '1125', '1126', '1127', '1128', '1129', '1130', '1131', '1132', '1133']\n",
    "# set = ['1122_disCSMS', '1122_disCSMSx3', '1122_disCSMSx-3']\n",
    "\n",
    "submit = '/home/tchau/code/condor_submit/RespMatrix/submit.sh'\n",
    "with open(submit, 'w') as sub:\n",
    "    sub.write(\"#!/bin/sh\\n\")\n",
    "    for s in set:\n",
    "        dag_file = '/home/tchau/code/condor_submit/RespMatrix/RespKDEFFT_MCset{}.dag'.format(s)\n",
    "        with open(dag_file, 'w') as f:\n",
    "            f.write('JOB RespKDEFFT_MCset{}'.format(s)+' Resp.submit \\n')\n",
    "            f.write('VARS RespKDEFFT_MCset{}'.format(s)+' JOBNAME=\"RespKDEFFT_MCset{}\"'.format(s) +' set=\"{}\"'.format(s)+'\\n')\n",
    "        f.close()\n",
    "        sub.write(\"condor_submit_dag -config dagman.config {} \\n\".format(dag_file))\n"
   ]
  },
  {
   "cell_type": "code",
   "execution_count": null,
   "metadata": {},
   "outputs": [],
   "source": []
  }
 ],
 "metadata": {
  "kernelspec": {
   "display_name": "Python 3",
   "language": "python",
   "name": "python3"
  },
  "language_info": {
   "codemirror_mode": {
    "name": "ipython",
    "version": 3
   },
   "file_extension": ".py",
   "mimetype": "text/x-python",
   "name": "python",
   "nbconvert_exporter": "python",
   "pygments_lexer": "ipython3",
   "version": "3.10.2"
  },
  "orig_nbformat": 4,
  "vscode": {
   "interpreter": {
    "hash": "730d07e719089c4b7a24b2a2e0410899feef1b750c5439b52d6eb1a6fb5405e5"
   }
  }
 },
 "nbformat": 4,
 "nbformat_minor": 2
}
