{
 "cells": [
  {
   "cell_type": "code",
   "execution_count": 1,
   "metadata": {},
   "outputs": [],
   "source": [
    "%matplotlib inline\n",
    "%load_ext autoreload\n",
    "%autoreload 2\n",
    "import sys\n",
    "import numpy as np\n",
    "from scipy.stats import chi2\n",
    "sys.path.append(\"/data/user/tchau/Sandbox/GC_OscNext/DMfit/DMfit\")\n",
    "sys.path.append(\"/data/user/tchau/Sandbox/GC_OscNext/PDFs\")\n",
    "sys.path.append(\"/data/user/tchau/Sandbox/GC_OscNext/DetResponse\")\n",
    "sys.path.append(\"/data/user/tchau/Sandbox/GC_OscNext/Utils\")\n",
    "\n",
    "from Detector import *\n",
    "from Signal import *\n",
    "from Plot_Histogram import *\n"
   ]
  },
  {
   "cell_type": "code",
   "execution_count": null,
   "metadata": {},
   "outputs": [],
   "source": []
  }
 ],
 "metadata": {
  "kernelspec": {
   "display_name": "Python 3.10.2 64-bit",
   "language": "python",
   "name": "python3"
  },
  "language_info": {
   "codemirror_mode": {
    "name": "ipython",
    "version": 3
   },
   "file_extension": ".py",
   "mimetype": "text/x-python",
   "name": "python",
   "nbconvert_exporter": "python",
   "pygments_lexer": "ipython3",
   "version": "3.10.2"
  },
  "orig_nbformat": 4,
  "vscode": {
   "interpreter": {
    "hash": "730d07e719089c4b7a24b2a2e0410899feef1b750c5439b52d6eb1a6fb5405e5"
   }
  }
 },
 "nbformat": 4,
 "nbformat_minor": 2
}
