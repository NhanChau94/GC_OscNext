{
 "cells": [
  {
   "cell_type": "code",
   "execution_count": 1,
   "metadata": {},
   "outputs": [],
   "source": [
    "import os"
   ]
  },
  {
   "cell_type": "code",
   "execution_count": 64,
   "metadata": {},
   "outputs": [],
   "source": [
    "path = '/home/tchau/code/condor_submit/OscNext/'\n",
    "if not (os.path.exists(path)): os.makedirs(path)\n",
    "cfig_file = '/home/tchau/code/condor_submit/OscNext/dagman.config'\n",
    "with open(cfig_file, 'w') as c:\n",
    "    c.write('DAGMAN_MAX_JOBS_SUBMITTED=500'+'\\n')\n",
    "    c.write('DAGMAN_MAX_SUBMIT_PER_INTERVAL=20'+'\\n')\n",
    "    c.write('DAGMAN_USER_LOG_SCAN_INTERVAL=10'+'\\n')\n",
    "    c.close()\n",
    "\n",
    "sub_file = '/home/tchau/code/condor_submit/OscNext/Sample.submit'\n",
    "with open(sub_file, 'w') as s:\n",
    "    # s.write('executable = /data/user/tchau/Sandbox/GC_OscNext/Samples/OscNext_hdf5topkl.py'+'\\n')\n",
    "    s.write('executable = /data/user/tchau/Sandbox/GC_OscNext/Samples/OscNext_i3topkl.py'+'\\n')\n",
    "\n",
    "    s.write('\\n')\n",
    "    s.write('initialdir = /data/user/tchau/'+'\\n')\n",
    "    s.write('logdir = /scratch/tchau/DM_OscNext/MakePDF/logs/'+'\\n')\n",
    "    s.write('output = $(logdir)$(JOBNAME).$(Cluster).out'+'\\n')\n",
    "    s.write('error = $(logdir)$(JOBNAME).$(Cluster).err'+'\\n')\n",
    "    s.write('log = $(logdir)$(JOBNAME).$(Cluster).log'+'\\n')\n",
    "    s.write('\\n')\n",
    "    s.write('notification   = never'+'\\n')\n",
    "    s.write('universe       = vanilla'+'\\n')\n",
    "    s.write('\\n')\n",
    "    s.write('should_transfer_files = YES'+'\\n')\n",
    "    s.write('request_memory = 8GB'+'\\n')\n",
    "    s.write('\\n')\n",
    "    s.write('arguments = -n $(nu) -s $(set)'+'\\n')\n",
    "    s.write('queue')\n",
    "    s.close()\n",
    "\n"
   ]
  },
  {
   "cell_type": "code",
   "execution_count": 3,
   "metadata": {},
   "outputs": [],
   "source": [
    "nutypes=[\"12\", \"14\", \"16\"]\n",
    "# baseline\n",
    "sets=['1122']\n",
    "# systs\n",
    "# sets=['1124', '1125', '1126', '1127', '1128', '1129', '1130', '1131', '1132', '1133']\n",
    "submit = '/home/tchau/code/condor_submit/OscNext/submit.sh'\n",
    "\n",
    "with open(submit, 'w') as s:\n",
    "    s.write(\"#!/bin/sh\\n\")\n",
    "    for set in sets:\n",
    "        for nu in nutypes:\n",
    "            path = '/home/tchau/code/condor_submit/OscNext'\n",
    "            dag_file = '{}/OscNextSample_{}{}.dag'.format(path, nu, set)\n",
    "            with open(dag_file, 'w') as f:\n",
    "                f.write('JOB OscNextSample_{}{}'.format(nu, set)+' Sample.submit \\n')\n",
    "                f.write('VARS OscNextSample_{}{}'.format(nu, set)+' JOBNAME=\"OscNextSample_{}{}\"'.format(nu, set) +' nu=\"{}\" set=\"{}\"'.format(nu, set)+'\\n')\n",
    "            f.close()\n",
    "            s.write(\"condor_submit_dag -config dagman.config {} \\n\".format(dag_file))\n",
    "s.close()"
   ]
  },
  {
   "attachments": {},
   "cell_type": "markdown",
   "metadata": {},
   "source": [
    "# Split mode"
   ]
  },
  {
   "cell_type": "code",
   "execution_count": 16,
   "metadata": {},
   "outputs": [],
   "source": [
    "import glob\n",
    "# Get list of file:\n",
    "sample = '161122'\n",
    "filenamelist = glob.glob('/data/ana/LE/oscNext/pass2/genie/level7_v02.00/{0}/oscNext_genie_level7_v02.00_pass2.{0}.*.i3.zst'.format(sample))\n"
   ]
  },
  {
   "cell_type": "code",
   "execution_count": 18,
   "metadata": {},
   "outputs": [],
   "source": [
    "def split(a, n):\n",
    "    k, m = divmod(len(a), n)\n",
    "    return (a[i*k+min(i, m):(i+1)*k+min(i+1, m)] for i in range(n))\n",
    "list_split = list(split(filenamelist, 10))\n",
    "i=0\n",
    "for listfile in list_split:\n",
    "    file = f'/home/tchau/code/condor_submit/OscNext/filelist/oscNext_genie_level7_v02.00_pass2.{sample}.list{i}.txt'\n",
    "    with open(file, 'w') as f:\n",
    "        for l in listfile:\n",
    "            f.write(l+'\\n')\n",
    "    i+=1"
   ]
  },
  {
   "cell_type": "code",
   "execution_count": 14,
   "metadata": {},
   "outputs": [],
   "source": [
    "sub_file = '/home/tchau/code/condor_submit/OscNext/Sample_split.submit'\n",
    "with open(sub_file, 'w') as s:\n",
    "    # s.write('executable = /data/user/tchau/Sandbox/GC_OscNext/Samples/OscNext_hdf5topkl.py'+'\\n')\n",
    "    s.write('executable = /data/user/tchau/Sandbox/GC_OscNext/Samples/OscNext_i3topkl.py'+'\\n')\n",
    "\n",
    "    s.write('\\n')\n",
    "    s.write('initialdir = /data/user/tchau/'+'\\n')\n",
    "    s.write('logdir = /scratch/tchau/DM_OscNext/MakePDF/logs/'+'\\n')\n",
    "    s.write('output = $(logdir)$(JOBNAME).$(Cluster).out'+'\\n')\n",
    "    s.write('error = $(logdir)$(JOBNAME).$(Cluster).err'+'\\n')\n",
    "    s.write('log = $(logdir)$(JOBNAME).$(Cluster).log'+'\\n')\n",
    "    s.write('\\n')\n",
    "    s.write('notification   = never'+'\\n')\n",
    "    s.write('universe       = vanilla'+'\\n')\n",
    "    s.write('\\n')\n",
    "    s.write('should_transfer_files = YES'+'\\n')\n",
    "    s.write('request_memory = 2GB'+'\\n')\n",
    "    s.write('\\n')\n",
    "    s.write('arguments = --listf $(listf)'+'\\n')\n",
    "    s.write('queue')\n",
    "    s.close()\n"
   ]
  },
  {
   "cell_type": "code",
   "execution_count": 20,
   "metadata": {},
   "outputs": [],
   "source": [
    "\n",
    "submit = '/home/tchau/code/condor_submit/OscNext/submit.sh'\n",
    "filelist = glob.glob(f'/home/tchau/code/condor_submit/OscNext/filelist/*{sample}*.txt')\n",
    "\n",
    "i=0\n",
    "with open(submit, 'w') as s:\n",
    "    s.write(\"#!/bin/sh\\n\")\n",
    "    for file in filelist:\n",
    "        path = '/home/tchau/code/condor_submit/OscNext'\n",
    "        dag_file = '{}/OscNextSample{}_list{}.dag'.format(path, sample, i)\n",
    "        with open(dag_file, 'w') as f:\n",
    "            f.write('JOB OscNextSample{}_list{}'.format(sample, i)+' Sample_split.submit \\n')\n",
    "            f.write('VARS OscNextSample{}_list{}'.format(sample, i)+' JOBNAME=\"OscNextSample{}_list{}\"'.format(sample, i) +' listf=\"{}\"'.format(file)+'\\n')\n",
    "        f.close()\n",
    "        s.write(\"condor_submit_dag -config dagman.config {} \\n\".format(dag_file))\n",
    "        i+=1\n",
    "s.close()"
   ]
  }
 ],
 "metadata": {
  "kernelspec": {
   "display_name": "Python 3.10.2 64-bit",
   "language": "python",
   "name": "python3"
  },
  "language_info": {
   "codemirror_mode": {
    "name": "ipython",
    "version": 3
   },
   "file_extension": ".py",
   "mimetype": "text/x-python",
   "name": "python",
   "nbconvert_exporter": "python",
   "pygments_lexer": "ipython3",
   "version": "3.10.2"
  },
  "orig_nbformat": 4,
  "vscode": {
   "interpreter": {
    "hash": "730d07e719089c4b7a24b2a2e0410899feef1b750c5439b52d6eb1a6fb5405e5"
   }
  }
 },
 "nbformat": 4,
 "nbformat_minor": 2
}
