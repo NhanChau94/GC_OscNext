{
 "cells": [
  {
   "cell_type": "code",
   "execution_count": 1,
   "metadata": {},
   "outputs": [],
   "source": [
    "import os"
   ]
  },
  {
   "cell_type": "code",
   "execution_count": 19,
   "metadata": {},
   "outputs": [],
   "source": [
    "#############################################################################################################\n",
    "#   Create .config, .submit files -> change to your own folder\n",
    "#\n",
    "submit_dir = '/home/tchau/code/condor_submit/Significance'\n",
    "logdir = '/scratch/tchau/DM_OscNext/MakePDF/logs/'\n",
    "if not (os.path.exists(submit_dir)): os.makedirs(submit_dir)\n",
    "if not (os.path.exists(logdir)): os.makedirs(logdir)\n",
    "\n",
    "\n",
    "cfig_file = f'{submit_dir}/dagman.config'\n",
    "sub_file = f'{submit_dir}/Sig.submit'\n",
    "curdir=os.getcwd()\n",
    "script = f'{curdir}/Significance.py'\n",
    "\n",
    "with open(cfig_file, 'w') as c:\n",
    "    c.write('DAGMAN_MAX_JOBS_SUBMITTED=100'+'\\n')\n",
    "    c.write('DAGMAN_MAX_SUBMIT_PER_INTERVAL=20'+'\\n')\n",
    "    c.write('DAGMAN_USER_LOG_SCAN_INTERVAL=10'+'\\n')\n",
    "    c.close()\n",
    "\n",
    "\n",
    "with open(sub_file, 'w') as s:\n",
    "    s.write(f'executable = {script}'+'\\n')\n",
    "    s.write('\\n')\n",
    "    s.write('initialdir = /data/user/tchau/'+'\\n')\n",
    "    s.write(f'logdir = {logdir}'+'\\n')\n",
    "    s.write('output = $(logdir)$(JOBNAME).$(Cluster).out'+'\\n')\n",
    "    s.write('error = $(logdir)$(JOBNAME).$(Cluster).err'+'\\n')\n",
    "    s.write('log = $(logdir)$(JOBNAME).$(Cluster).log'+'\\n')\n",
    "    s.write('\\n')\n",
    "    s.write('notification   = never'+'\\n')\n",
    "    s.write('universe       = vanilla'+'\\n')\n",
    "    s.write('\\n')\n",
    "    s.write('should_transfer_files = YES'+'\\n')\n",
    "    s.write('request_memory = 6GB'+'\\n')\n",
    "    s.write('getenv = True'+'\\n')\n",
    "    s.write('\\n')\n",
    "    s.write('arguments = -c $(ch) -p $(profile) --process $(prc) --outfile ($outfile)  --mass_default'+'\\n')\n",
    "    s.write('queue')\n",
    "    s.close()"
   ]
  },
  {
   "cell_type": "code",
   "execution_count": 21,
   "metadata": {},
   "outputs": [
    {
     "name": "stdout",
     "output_type": "stream",
     "text": [
      "condor_submit_dag -config dagman.config /home/tchau/code/condor_submit/Significance/Significance2.dag\n",
      "\n"
     ]
    }
   ],
   "source": [
    "#############################################################################################################\n",
    "#   Create .dag and submit script\n",
    "#\n",
    "submit = f'{submit_dir}/submit.sh'\n",
    "dag_file = '{}/Significance.dag'.format(submit_dir)\n",
    "\n",
    "\n",
    "#list of channels and profiles\n",
    "# channels = [\"numunumu\"]\n",
    "channels = [\"WW\",\"bb\",\"tautau\",\"mumu\",\"nuenue\", \"numunumu\", \"nutaunutau\"]\n",
    "profile = ['NFW','Burkert']\n",
    "\n",
    "# process\n",
    "prcs = [\"ann\", \"decay\"]\n",
    "\n",
    "# number of trials for TS distribution\n",
    "ntrials=10000\n",
    "\n",
    "# Loops on scenarios and submit jobs for each of them\n",
    "with open(dag_file, 'w') as f:\n",
    "    for c in channels:\n",
    "        for p in profile:\n",
    "            for prc in prcs:\n",
    "                # output\n",
    "                outfile=f\"/data/user/tchau/DarkMatter_OscNext/Significance/{c}_{p}_{prc}\"\n",
    "                f.write('JOB significance_{}_{}_{}'.format(prc, c, p)+' Sig.submit \\n')\n",
    "                f.write('VARS significance_{}_{}_{}'.format(prc, c, p)\n",
    "                        +' JOBNAME=\"significance_{}_{}_{}\"'.format(prc, c, p) \n",
    "                        +' ch=\"{}\" profile=\"{}\" prc=\"{}\" outfile=\"{}\"'.format(c, p, prc, outfile)+'\\n')\n",
    "f.close()\n",
    "with open(submit, 'w') as s:\n",
    "    s.write(\"#!/bin/sh\\n\")\n",
    "    s.write(\"condor_submit_dag -config dagman.config {}\\n\".format(dag_file))\n",
    "    print(\"condor_submit_dag -config dagman.config {}\\n\".format(dag_file))\n",
    "s.close()\n"
   ]
  },
  {
   "cell_type": "code",
   "execution_count": null,
   "metadata": {},
   "outputs": [],
   "source": []
  }
 ],
 "metadata": {
  "kernelspec": {
   "display_name": "Python 3",
   "language": "python",
   "name": "python3"
  },
  "language_info": {
   "codemirror_mode": {
    "name": "ipython",
    "version": 3
   },
   "file_extension": ".py",
   "mimetype": "text/x-python",
   "name": "python",
   "nbconvert_exporter": "python",
   "pygments_lexer": "ipython3",
   "version": "3.10.2"
  },
  "orig_nbformat": 4
 },
 "nbformat": 4,
 "nbformat_minor": 2
}
