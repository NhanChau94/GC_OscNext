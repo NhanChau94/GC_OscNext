{
 "cells": [
  {
   "cell_type": "code",
   "execution_count": 11,
   "metadata": {},
   "outputs": [],
   "source": [
    "# channels = [\"WW\",\"bb\",\"tautau\",\"mumu\",\"nuenue\",\"numunumu\",\"nutaunutau\"]\n",
    "# channels = [\"bb\"]\n",
    "channels = [\"WW\",\"numunumu\", 'bb']\n",
    "# channels = [\"WW\",\"numunumu\"]\n",
    "\n",
    "\n",
    "profile = ['NFW','Burkert']\n",
    "# profile = ['Burkert']\n",
    "\n",
    "masses = {\"WW\":[90, 8000], \"bb\":[15, 8000], 'tautau':[5, 4000], 'mumu':[5, 1000], \"nuenue\":[5, 200],\"numunumu\":[5, 200],\"nutaunutau\":[5,200]}"
   ]
  },
  {
   "cell_type": "code",
   "execution_count": 12,
   "metadata": {},
   "outputs": [],
   "source": [
    "\n",
    "cfig_file = '/home/tchau/code/condor_submit/UL/dagman.config'\n",
    "with open(cfig_file, 'w') as c:\n",
    "    c.write('DAGMAN_MAX_JOBS_SUBMITTED=500'+'\\n')\n",
    "    c.write('DAGMAN_MAX_SUBMIT_PER_INTERVAL=20'+'\\n')\n",
    "    c.write('DAGMAN_USER_LOG_SCAN_INTERVAL=10'+'\\n')\n",
    "    c.close()\n",
    "\n",
    "sub_file = '/home/tchau/code/condor_submit/UL/UL.submit'\n",
    "\n",
    "with open(sub_file, 'w') as s:\n",
    "    s.write('executable = /data/user/tchau/Sandbox/GC_OscNext/Sensitivity/UpperLimit_LLH-Interval.py'+'\\n')\n",
    "    s.write('\\n')\n",
    "    s.write('initialdir = /data/user/tchau/'+'\\n')\n",
    "    s.write('logdir = /scratch/tchau/DM_OscNext/MakePDF/logs/'+'\\n')\n",
    "    s.write('output = $(logdir)$(JOBNAME).$(Cluster).out'+'\\n')\n",
    "    s.write('error = $(logdir)$(JOBNAME).$(Cluster).err'+'\\n')\n",
    "    s.write('log = $(logdir)$(JOBNAME).$(Cluster).log'+'\\n')\n",
    "    s.write('\\n')\n",
    "    s.write('notification   = never'+'\\n')\n",
    "    s.write('universe       = vanilla'+'\\n')\n",
    "    s.write('\\n')\n",
    "    s.write('should_transfer_files = YES'+'\\n')\n",
    "    s.write('request_memory = 8GB'+'\\n')\n",
    "    s.write('getenv = True'+'\\n')\n",
    "    s.write('\\n')\n",
    "    s.write('arguments = -c $(c) -p $(p) -u $(u) -l $(l) -n $(n) --mc $(mc) -b $(bkg) --method $(method) --nsample $(nsample)'+'\\n')\n",
    "\n",
    "    s.write('queue')\n",
    "    s.close()"
   ]
  },
  {
   "cell_type": "code",
   "execution_count": 5,
   "metadata": {},
   "outputs": [
    {
     "name": "stdout",
     "output_type": "stream",
     "text": [
      "condor_submit_dag -config dagman.config /home/tchau/code/condor_submit/UL/WW_NFW_30_1122_FFT_bisection_500trial/WW_NFW_30_FFT_1122_bisection_500trial.dag\n",
      "\n",
      "condor_submit_dag -config dagman.config /home/tchau/code/condor_submit/UL/WW_Burkert_30_1122_FFT_bisection_500trial/WW_Burkert_30_FFT_1122_bisection_500trial.dag\n",
      "\n",
      "condor_submit_dag -config dagman.config /home/tchau/code/condor_submit/UL/numunumu_NFW_30_1122_FFT_bisection_500trial/numunumu_NFW_30_FFT_1122_bisection_500trial.dag\n",
      "\n",
      "condor_submit_dag -config dagman.config /home/tchau/code/condor_submit/UL/numunumu_Burkert_30_1122_FFT_bisection_500trial/numunumu_Burkert_30_FFT_1122_bisection_500trial.dag\n",
      "\n",
      "condor_submit_dag -config dagman.config /home/tchau/code/condor_submit/UL/bb_NFW_30_1122_FFT_bisection_500trial/bb_NFW_30_FFT_1122_bisection_500trial.dag\n",
      "\n",
      "condor_submit_dag -config dagman.config /home/tchau/code/condor_submit/UL/bb_Burkert_30_1122_FFT_bisection_500trial/bb_Burkert_30_FFT_1122_bisection_500trial.dag\n",
      "\n"
     ]
    }
   ],
   "source": [
    "import os\n",
    "submit = '/home/tchau/code/condor_submit/UL/submit.sh'\n",
    "n = 30\n",
    "nsample = 500\n",
    "bkgs=['FFT']\n",
    "method = 'bisection'\n",
    "# mcs=['0000', '1122']\n",
    "# mcs = ['0000', '1122', '1124', '÷1125', '1126', '1127', '1128', '1129', '1130', '1131', '1132', '1133']\n",
    "mcs = ['1122']\n",
    "with open(submit, 'w') as s:\n",
    "    s.write(\"#!/bin/sh\\n\")\n",
    "    for bkg in bkgs:\n",
    "        for mc in mcs:\n",
    "            for c in channels:\n",
    "                for p in profile:\n",
    "                    path = '/home/tchau/code/condor_submit/UL/{}_{}_{}_{}_{}_{}_{}trial'.format(c, p, n, mc, bkg, method, nsample)\n",
    "                    if not (os.path.exists(path)): os.makedirs(path)\n",
    "                    dag_file = '{}/{}_{}_{}_{}_{}_{}_{}trial.dag'.format(path, c, p, n, bkg, mc, method, nsample)\n",
    "                    with open(dag_file, 'w') as f:\n",
    "                        f.write('JOB UL_{}_{}_{}_{}_{}_{}_{}trial.dag'.format(c,p, n, mc, bkg, method, nsample)+' UL.submit \\n')\n",
    "                        f.write('VARS UL_{}_{}_{}_{}_{}_{}_{}trial.dag'.format(c,p, n, mc, bkg, method, nsample)+' JOBNAME=\"UL_{}_{}_{}_{}_{}_{}_{}trial\"'.format(c, p, n, mc, bkg, method, nsample) +' c=\"{}\" p=\"{}\" u=\"{}\" l=\"{}\" n=\"{}\" mc=\"{}\" bkg=\"{}\" method=\"{}\" nsample=\"{}\"'.format(c, p, masses[c][1], masses[c][0], n, mc, bkg, method, nsample)+'\\n')\n",
    "                    f.close()\n",
    "                    s.write(\"condor_submit_dag -config dagman.config {}\\n\".format(dag_file))\n",
    "                    print(\"condor_submit_dag -config dagman.config {}\\n\".format(dag_file))\n",
    "s.close()"
   ]
  },
  {
   "attachments": {},
   "cell_type": "markdown",
   "metadata": {},
   "source": [
    "# <font color=\"darkmagenta\"> With options on error for Jfactor </font>"
   ]
  },
  {
   "cell_type": "code",
   "execution_count": 16,
   "metadata": {},
   "outputs": [],
   "source": [
    "\n",
    "cfig_file = '/home/tchau/code/condor_submit/UL/dagman.config'\n",
    "with open(cfig_file, 'w') as c:\n",
    "    c.write('DAGMAN_MAX_JOBS_SUBMITTED=500'+'\\n')\n",
    "    c.write('DAGMAN_MAX_SUBMIT_PER_INTERVAL=20'+'\\n')\n",
    "    c.write('DAGMAN_USER_LOG_SCAN_INTERVAL=10'+'\\n')\n",
    "    c.close()\n",
    "\n",
    "sub_file = '/home/tchau/code/condor_submit/UL/UL_errorJ.submit'\n",
    "\n",
    "with open(sub_file, 'w') as s:\n",
    "    s.write('executable = /data/user/tchau/Sandbox/GC_OscNext/Sensitivity/UpperLimit_LLH-Interval.py'+'\\n')\n",
    "    s.write('\\n')\n",
    "    s.write('initialdir = /data/user/tchau/'+'\\n')\n",
    "    s.write('logdir = /scratch/tchau/DM_OscNext/MakePDF/logs/'+'\\n')\n",
    "    s.write('output = $(logdir)$(JOBNAME).$(Cluster).out'+'\\n')\n",
    "    s.write('error = $(logdir)$(JOBNAME).$(Cluster).err'+'\\n')\n",
    "    s.write('log = $(logdir)$(JOBNAME).$(Cluster).log'+'\\n')\n",
    "    s.write('\\n')\n",
    "    s.write('notification   = never'+'\\n')\n",
    "    s.write('universe       = vanilla'+'\\n')\n",
    "    s.write('\\n')\n",
    "    s.write('should_transfer_files = YES'+'\\n')\n",
    "    s.write('request_memory = 4GB'+'\\n')\n",
    "    s.write('getenv = True'+'\\n')\n",
    "    s.write('\\n')\n",
    "    s.write('arguments = -c $(c) -p $(p) -u $(u) -l $(l) -n $(n) --mc $(mc) -b $(bkg) --method $(method) --nsample $(nsample) --errorJ $(errorJ)'+'\\n')\n",
    "\n",
    "    s.write('queue')\n",
    "    s.close()"
   ]
  },
  {
   "cell_type": "code",
   "execution_count": 17,
   "metadata": {},
   "outputs": [
    {
     "name": "stdout",
     "output_type": "stream",
     "text": [
      "condor_submit_dag -config dagman.config /home/tchau/code/condor_submit/UL/WW_NFW_30_1122_FFT_bisection_0trial_Jfactorerrors1/WW_NFW_30_FFT_1122_bisection_0trial_Jerrors1.dag\n",
      "\n",
      "condor_submit_dag -config dagman.config /home/tchau/code/condor_submit/UL/WW_NFW_30_1122_FFT_bisection_0trial_Jfactorerrors2/WW_NFW_30_FFT_1122_bisection_0trial_Jerrors2.dag\n",
      "\n",
      "condor_submit_dag -config dagman.config /home/tchau/code/condor_submit/UL/WW_NFW_30_1122_FFT_bisection_0trial_Jfactornominal/WW_NFW_30_FFT_1122_bisection_0trial_Jnominal.dag\n",
      "\n",
      "condor_submit_dag -config dagman.config /home/tchau/code/condor_submit/UL/WW_Burkert_30_1122_FFT_bisection_0trial_Jfactorerrors1/WW_Burkert_30_FFT_1122_bisection_0trial_Jerrors1.dag\n",
      "\n",
      "condor_submit_dag -config dagman.config /home/tchau/code/condor_submit/UL/WW_Burkert_30_1122_FFT_bisection_0trial_Jfactorerrors2/WW_Burkert_30_FFT_1122_bisection_0trial_Jerrors2.dag\n",
      "\n",
      "condor_submit_dag -config dagman.config /home/tchau/code/condor_submit/UL/WW_Burkert_30_1122_FFT_bisection_0trial_Jfactornominal/WW_Burkert_30_FFT_1122_bisection_0trial_Jnominal.dag\n",
      "\n",
      "condor_submit_dag -config dagman.config /home/tchau/code/condor_submit/UL/numunumu_NFW_30_1122_FFT_bisection_0trial_Jfactorerrors1/numunumu_NFW_30_FFT_1122_bisection_0trial_Jerrors1.dag\n",
      "\n",
      "condor_submit_dag -config dagman.config /home/tchau/code/condor_submit/UL/numunumu_NFW_30_1122_FFT_bisection_0trial_Jfactorerrors2/numunumu_NFW_30_FFT_1122_bisection_0trial_Jerrors2.dag\n",
      "\n",
      "condor_submit_dag -config dagman.config /home/tchau/code/condor_submit/UL/numunumu_NFW_30_1122_FFT_bisection_0trial_Jfactornominal/numunumu_NFW_30_FFT_1122_bisection_0trial_Jnominal.dag\n",
      "\n",
      "condor_submit_dag -config dagman.config /home/tchau/code/condor_submit/UL/numunumu_Burkert_30_1122_FFT_bisection_0trial_Jfactorerrors1/numunumu_Burkert_30_FFT_1122_bisection_0trial_Jerrors1.dag\n",
      "\n",
      "condor_submit_dag -config dagman.config /home/tchau/code/condor_submit/UL/numunumu_Burkert_30_1122_FFT_bisection_0trial_Jfactorerrors2/numunumu_Burkert_30_FFT_1122_bisection_0trial_Jerrors2.dag\n",
      "\n",
      "condor_submit_dag -config dagman.config /home/tchau/code/condor_submit/UL/numunumu_Burkert_30_1122_FFT_bisection_0trial_Jfactornominal/numunumu_Burkert_30_FFT_1122_bisection_0trial_Jnominal.dag\n",
      "\n",
      "condor_submit_dag -config dagman.config /home/tchau/code/condor_submit/UL/bb_NFW_30_1122_FFT_bisection_0trial_Jfactorerrors1/bb_NFW_30_FFT_1122_bisection_0trial_Jerrors1.dag\n",
      "\n",
      "condor_submit_dag -config dagman.config /home/tchau/code/condor_submit/UL/bb_NFW_30_1122_FFT_bisection_0trial_Jfactorerrors2/bb_NFW_30_FFT_1122_bisection_0trial_Jerrors2.dag\n",
      "\n",
      "condor_submit_dag -config dagman.config /home/tchau/code/condor_submit/UL/bb_NFW_30_1122_FFT_bisection_0trial_Jfactornominal/bb_NFW_30_FFT_1122_bisection_0trial_Jnominal.dag\n",
      "\n",
      "condor_submit_dag -config dagman.config /home/tchau/code/condor_submit/UL/bb_Burkert_30_1122_FFT_bisection_0trial_Jfactorerrors1/bb_Burkert_30_FFT_1122_bisection_0trial_Jerrors1.dag\n",
      "\n",
      "condor_submit_dag -config dagman.config /home/tchau/code/condor_submit/UL/bb_Burkert_30_1122_FFT_bisection_0trial_Jfactorerrors2/bb_Burkert_30_FFT_1122_bisection_0trial_Jerrors2.dag\n",
      "\n",
      "condor_submit_dag -config dagman.config /home/tchau/code/condor_submit/UL/bb_Burkert_30_1122_FFT_bisection_0trial_Jfactornominal/bb_Burkert_30_FFT_1122_bisection_0trial_Jnominal.dag\n",
      "\n"
     ]
    }
   ],
   "source": [
    "import os\n",
    "submit = '/home/tchau/code/condor_submit/UL/submit.sh'\n",
    "n = 30\n",
    "nsample = 0\n",
    "bkgs=['FFT']\n",
    "method = 'bisection'\n",
    "# mcs=['0000', '1122']\n",
    "# mcs = ['0000', '1122', '1124', '÷1125', '1126', '1127', '1128', '1129', '1130', '1131', '1132', '1133']\n",
    "errorJ=['errors1', 'errors2', 'nominal']\n",
    "with open(submit, 'w') as s:\n",
    "    s.write(\"#!/bin/sh\\n\")\n",
    "    for bkg in bkgs:\n",
    "        for mc in mcs:\n",
    "            for c in channels:\n",
    "                for p in profile:\n",
    "                    for error in errorJ:\n",
    "                        path = '/home/tchau/code/condor_submit/UL/{}_{}_{}_{}_{}_{}_{}trial_Jfactor{}'.format(c, p, n, mc, bkg, method, nsample, error)\n",
    "                        if not (os.path.exists(path)): os.makedirs(path)\n",
    "                        dag_file = '{}/{}_{}_{}_{}_{}_{}_{}trial_J{}.dag'.format(path, c, p, n, bkg, mc, method, nsample, error)\n",
    "                        with open(dag_file, 'w') as f:\n",
    "                            f.write('JOB UL_{}_{}_{}_{}_{}_{}_{}trial_J{}.dag'.format(c,p, n, mc, bkg, method, nsample, error)+' UL_errorJ.submit \\n')\n",
    "                            f.write('VARS UL_{}_{}_{}_{}_{}_{}_{}trial_J{}.dag'.format(c,p, n, mc, bkg, method, nsample, error)+' JOBNAME=\"UL_{}_{}_{}_{}_{}_{}_{}trial_J{}\"'.format(c, p, n, mc, bkg, method, nsample, error) +' c=\"{}\" p=\"{}\" u=\"{}\" l=\"{}\" n=\"{}\" mc=\"{}\" bkg=\"{}\" method=\"{}\" nsample=\"{}\" errorJ=\"{}\"'.format(c, p, masses[c][1], masses[c][0], n, mc, bkg, method, nsample, error)+'\\n')\n",
    "                        f.close()\n",
    "                        s.write(\"condor_submit_dag -config dagman.config {}\\n\".format(dag_file))\n",
    "                        print(\"condor_submit_dag -config dagman.config {}\\n\".format(dag_file))\n",
    "s.close()"
   ]
  },
  {
   "cell_type": "code",
   "execution_count": null,
   "metadata": {},
   "outputs": [],
   "source": []
  }
 ],
 "metadata": {
  "kernelspec": {
   "display_name": "Python 3",
   "language": "python",
   "name": "python3"
  },
  "language_info": {
   "codemirror_mode": {
    "name": "ipython",
    "version": 3
   },
   "file_extension": ".py",
   "mimetype": "text/x-python",
   "name": "python",
   "nbconvert_exporter": "python",
   "pygments_lexer": "ipython3",
   "version": "3.10.2 (main, Aug 29 2022, 15:31:37) [GCC 9.3.0]"
  },
  "orig_nbformat": 4,
  "vscode": {
   "interpreter": {
    "hash": "730d07e719089c4b7a24b2a2e0410899feef1b750c5439b52d6eb1a6fb5405e5"
   }
  }
 },
 "nbformat": 4,
 "nbformat_minor": 2
}
