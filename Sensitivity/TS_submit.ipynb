{
 "cells": [
  {
   "cell_type": "code",
   "execution_count": 125,
   "metadata": {},
   "outputs": [],
   "source": [
    "import os\n",
    "import numpy as np\n",
    "mass=8000\n",
    "channel=\"WW\"\n",
    "profile='NFW'\n",
    "set=\"0000\"\n",
    "\n",
    "Ntrials = 10000\n",
    "Njobs = 10\n",
    "SignalSub = False\n",
    "\n",
    "sys.path.append(\"/data/user/tchau/Sandbox/GC_OscNext/DMfit/DMfit\")\n",
    "sys.path.append(\"/data/user/tchau/Sandbox/GC_OscNext/PDFs\")\n",
    "sys.path.append(\"/data/user/tchau/Sandbox/GC_OscNext/DetResponse\")\n",
    "sys.path.append(\"/data/user/tchau/Sandbox/GC_OscNext/Utils\")\n",
    "\n",
    "from Detector import *\n",
    "from Signal import *\n",
    "from Plot_Histogram import *\n",
    "\n",
    "from modeling import PdfBase, Model, Parameter\n",
    "from data import DataSet\n",
    "from llh import LikelihoodRatioTest\n",
    "from scipy.interpolate import interp1d\n"
   ]
  },
  {
   "cell_type": "code",
   "execution_count": 126,
   "metadata": {},
   "outputs": [],
   "source": [
    "def UpperLimit_Xi(Rate, Rate_Scr, Bkg, Data, LLH=\"SignalSub\", CL=1.64, deltaxi=5e-5):\n",
    "    SignalPDF = PdfBase(Rate.flatten()/np.sum(Rate.flatten()), name=\"SignalPDF\")\n",
    "    ScrSignalPDF = PdfBase(Rate_Scr.flatten()/np.sum(Rate_Scr.flatten()), name=\"ScrSignalPDF\")\n",
    "    BkgPDF = PdfBase(Bkg.flatten()/np.sum(Bkg.flatten()), name=\"Bkg\")\n",
    "    DataPDF = PdfBase(Data.flatten()/np.sum(Data.flatten()), name=\"Data\")\n",
    "\n",
    "\n",
    "    sig_fit = Parameter(value=0.001, limits=(0,1), fixed=False, name=\"fit\")\n",
    "    sig_fix = Parameter(value=0.0, limits=(0,1), fixed=True, name=\"fix\")\n",
    "    sig_inj = Parameter(value=0.0, limits=(0,1), fixed=True, name=\"inj\")\n",
    "\n",
    "    # signal subtraction\n",
    "    if LLH==\"SignalSub\":\n",
    "        modelH1 = (sig_fit* SignalPDF) + (1-sig_fit)*(BkgPDF) + sig_fit* BkgPDF - sig_fit*ScrSignalPDF\n",
    "        modelH0 = (sig_fix* SignalPDF) + (1-sig_fix)*(BkgPDF) + sig_fix* BkgPDF - sig_fix*ScrSignalPDF\n",
    "    elif LLH==\"Poisson\":\n",
    "    # # in case of normal likelihood:\n",
    "        modelH1 = (sig_fit* SignalPDF) + (1-sig_fit)*(BkgPDF)\n",
    "        modelH0 = (sig_fix* SignalPDF) + (1-sig_fix)*(BkgPDF)\n",
    "\n",
    "    lr = LikelihoodRatioTest(model = modelH1, null_model = modelH0)\n",
    "    # pseudo_data = (sig_inj* SignalPDF) + (1-sig_inj)*(BkgPDF) + sig_inj* BkgPDF - sig_inj*ScrSignalPDF\n",
    "    data = DataSet()\n",
    "    data.asimov(np.sum(Data), DataPDF)\n",
    "    lr.data = data\n",
    "\n",
    "    T = np.array([0])\n",
    "    x = deltaxi\n",
    "    xi = np.array([0])\n",
    "    while T[-1]<CL*1.5:\n",
    "        xi = np.append(xi,x)\n",
    "        lr.models['H0'].parameters[\"fix\"].value = x\n",
    "        lr.fit(\"H0\")\n",
    "        lr.fit(\"H1\")\n",
    "        if lr.models['H1'].parameters[\"fit\"].value > x:\n",
    "            T = np.append(T, 0)\n",
    "        else:    \n",
    "            T = np.append(T, lr.TS)\n",
    "        x+=deltaxi\n",
    "        \n",
    "    \n",
    "    f = interp1d(T, xi)\n",
    "    xi_CL = f(CL)\n",
    "    return xi_CL\n",
    "\n"
   ]
  },
  {
   "cell_type": "code",
   "execution_count": 118,
   "metadata": {},
   "outputs": [
    {
     "name": "stdout",
     "output_type": "stream",
     "text": [
      "********************\n",
      "Buiding final reco rate using Resp method\n",
      "********************\n",
      "Computing true rate with Charon spectra\n",
      "channel: WW || mass: 8000 || profile: NFW || process: ann\n",
      "\n",
      "Initial Flux Loading: /home/tchau/.local/lib/python3.10/site-packages/charon-0.1.0-py3.10.egg/charon/data/SpectraEW.hdf5\n",
      "********************\n",
      "Computing Response Matrix\n",
      "********************\n",
      "Accessing MC set 0000\n",
      "********************\n",
      "Buiding final reco rate using Resp method\n",
      "********************\n",
      "Computing true rate with Charon spectra\n",
      "channel: WW || mass: 8000 || profile: NFW || process: ann\n",
      "\n",
      "Initial Flux Loading: /home/tchau/.local/lib/python3.10/site-packages/charon-0.1.0-py3.10.egg/charon/data/SpectraEW.hdf5\n",
      "********************\n",
      "Computing Response Matrix\n",
      "********************\n",
      "Accessing MC set 0000\n",
      "Loading file: \n",
      "/data/user/niovine/projects/DarkMatter_OscNext/Samples/OscNext/L7/Burnsample/OscNext_Level7_v02.00_burnsample_2012_pass2_variables_NoCut.pkl\n",
      "\n",
      "Loading file: \n",
      "/data/user/niovine/projects/DarkMatter_OscNext/Samples/OscNext/L7/Burnsample/OscNext_Level7_v02.00_burnsample_2013_pass2_variables_NoCut.pkl\n",
      "\n",
      "Loading file: \n",
      "/data/user/niovine/projects/DarkMatter_OscNext/Samples/OscNext/L7/Burnsample/OscNext_Level7_v02.00_burnsample_2014_pass2_variables_NoCut.pkl\n",
      "\n",
      "Loading file: \n",
      "/data/user/niovine/projects/DarkMatter_OscNext/Samples/OscNext/L7/Burnsample/OscNext_Level7_v02.00_burnsample_2015_pass2_variables_NoCut.pkl\n",
      "\n",
      "Loading file: \n",
      "/data/user/niovine/projects/DarkMatter_OscNext/Samples/OscNext/L7/Burnsample/OscNext_Level7_v02.00_burnsample_2016_pass2_variables_NoCut.pkl\n",
      "\n",
      "Loading file: \n",
      "/data/user/niovine/projects/DarkMatter_OscNext/Samples/OscNext/L7/Burnsample/OscNext_Level7_v02.00_burnsample_2017_pass2_variables_NoCut.pkl\n",
      "\n",
      "Loading file: \n",
      "/data/user/niovine/projects/DarkMatter_OscNext/Samples/OscNext/L7/Burnsample/OscNext_Level7_v02.00_burnsample_2018_pass2_variables_NoCut.pkl\n",
      "\n",
      "Loading file: \n",
      "/data/user/niovine/projects/DarkMatter_OscNext/Samples/OscNext/L7/Burnsample/OscNext_Level7_v02.00_burnsample_2019_pass2_variables_NoCut.pkl\n",
      "\n",
      "Loading file: \n",
      "/data/user/niovine/projects/DarkMatter_OscNext/Samples/OscNext/L7/Burnsample/OscNext_Level7_v02.00_burnsample_2020_pass2_variables_NoCut.pkl\n",
      "\n",
      "dimension: 2\n",
      "bandwidth: \n",
      "[1.2533028  0.01570578]\n"
     ]
    }
   ],
   "source": [
    "Bin = Std_Binning(1400)\n",
    "Reco = RecoRate(channel, \n",
    "            mass, \n",
    "            profile, \n",
    "            Bin,\n",
    "            set=set)\n",
    "Reco_Scr = RecoRate(channel, \n",
    "            mass, \n",
    "            profile, \n",
    "            Bin,\n",
    "            Scramble=True,\n",
    "            set=set)\n",
    "\n",
    "Rate = Reco.ComputeRecoRate()\n",
    "Rate_Scr = Reco_Scr.ComputeRecoRate()\n",
    "Bkg_bwISJ = ScrambleBkg(Bin, bw=\"ISJ\", oversample=10)\n"
   ]
  },
  {
   "cell_type": "code",
   "execution_count": 119,
   "metadata": {},
   "outputs": [
    {
     "data": {
      "text/plain": [
       "9174889197930322.0"
      ]
     },
     "execution_count": 119,
     "metadata": {},
     "output_type": "execute_result"
    }
   ],
   "source": [
    "np.sum(Rate)"
   ]
  },
  {
   "cell_type": "code",
   "execution_count": 127,
   "metadata": {},
   "outputs": [
    {
     "name": "stdout",
     "output_type": "stream",
     "text": [
      "Loading file: \n",
      "/data/user/niovine/projects/DarkMatter_OscNext/Samples/OscNext/L7/Burnsample/OscNext_Level7_v02.00_burnsample_2012_pass2_variables_NoCut.pkl\n",
      "\n",
      "Loading file: \n",
      "/data/user/niovine/projects/DarkMatter_OscNext/Samples/OscNext/L7/Burnsample/OscNext_Level7_v02.00_burnsample_2013_pass2_variables_NoCut.pkl\n",
      "\n",
      "Loading file: \n",
      "/data/user/niovine/projects/DarkMatter_OscNext/Samples/OscNext/L7/Burnsample/OscNext_Level7_v02.00_burnsample_2014_pass2_variables_NoCut.pkl\n",
      "\n",
      "Loading file: \n",
      "/data/user/niovine/projects/DarkMatter_OscNext/Samples/OscNext/L7/Burnsample/OscNext_Level7_v02.00_burnsample_2015_pass2_variables_NoCut.pkl\n",
      "\n",
      "Loading file: \n",
      "/data/user/niovine/projects/DarkMatter_OscNext/Samples/OscNext/L7/Burnsample/OscNext_Level7_v02.00_burnsample_2016_pass2_variables_NoCut.pkl\n",
      "\n",
      "Loading file: \n",
      "/data/user/niovine/projects/DarkMatter_OscNext/Samples/OscNext/L7/Burnsample/OscNext_Level7_v02.00_burnsample_2017_pass2_variables_NoCut.pkl\n",
      "\n",
      "Loading file: \n",
      "/data/user/niovine/projects/DarkMatter_OscNext/Samples/OscNext/L7/Burnsample/OscNext_Level7_v02.00_burnsample_2018_pass2_variables_NoCut.pkl\n",
      "\n",
      "Loading file: \n",
      "/data/user/niovine/projects/DarkMatter_OscNext/Samples/OscNext/L7/Burnsample/OscNext_Level7_v02.00_burnsample_2019_pass2_variables_NoCut.pkl\n",
      "\n",
      "Loading file: \n",
      "/data/user/niovine/projects/DarkMatter_OscNext/Samples/OscNext/L7/Burnsample/OscNext_Level7_v02.00_burnsample_2020_pass2_variables_NoCut.pkl\n",
      "\n",
      "Parameter fit already exists in the model, it won't be added again\n",
      "Parameter fix already exists in the model, it won't be added again\n",
      "0.0004112500668494958\n"
     ]
    },
    {
     "name": "stderr",
     "output_type": "stream",
     "text": [
      "/cvmfs/icecube.opensciencegrid.org/py3-v4.2.1/RHEL_7_x86_64/lib/python3.10/site-packages/numpy/core/fromnumeric.py:43: VisibleDeprecationWarning: Creating an ndarray from ragged nested sequences (which is a list-or-tuple of lists-or-tuples-or ndarrays with different lengths or shapes) is deprecated. If you meant to do this, you must specify 'dtype=object' when creating the ndarray.\n",
      "  result = getattr(asarray(obj), method)(*args, **kwds)\n"
     ]
    }
   ],
   "source": [
    "Burnsample = 10* DataHist(Bin)\n",
    "\n",
    "signal = UpperLimit_Xi(Rate, Rate_Scr, Bkg_bwISJ, Burnsample, LLH=\"Poisson\", CL=1.64, deltaxi=5e-5)\n",
    "print(signal)\n",
    "# signal = 0.0"
   ]
  },
  {
   "cell_type": "code",
   "execution_count": 122,
   "metadata": {},
   "outputs": [],
   "source": [
    "\n",
    "cfig_file = '/home/tchau/code/condor_submit/TSdist/dagman.config'\n",
    "with open(cfig_file, 'w') as c:\n",
    "    c.write('DAGMAN_MAX_JOBS_SUBMITTED=500'+'\\n')\n",
    "    c.write('DAGMAN_MAX_SUBMIT_PER_INTERVAL=20'+'\\n')\n",
    "    c.write('DAGMAN_USER_LOG_SCAN_INTERVAL=10'+'\\n')\n",
    "    c.close()\n",
    "if SignalSub:\n",
    "    sub_file = '/home/tchau/code/condor_submit/TSdist/TSdist_SignalSubLLH.submit'\n",
    "else:\n",
    "    sub_file = '/home/tchau/code/condor_submit/TSdist/TSdist_NormalLLH.submit'\n",
    "\n",
    "with open(sub_file, 'w') as s:\n",
    "    s.write('executable = /data/user/tchau/Sandbox/GC_OscNext/Sensitivity/TS_distribution.py'+'\\n')\n",
    "    s.write('\\n')\n",
    "    s.write('initialdir = /data/user/tchau/'+'\\n')\n",
    "    s.write('logdir = /scratch/tchau/DM_OscNext/MakePDF/logs/'+'\\n')\n",
    "    s.write('output = $(logdir)$(JOBNAME).$(Cluster).out'+'\\n')\n",
    "    s.write('error = $(logdir)$(JOBNAME).$(Cluster).err'+'\\n')\n",
    "    s.write('log = $(logdir)$(JOBNAME).$(Cluster).log'+'\\n')\n",
    "    s.write('\\n')\n",
    "    s.write('notification   = never'+'\\n')\n",
    "    s.write('universe       = vanilla'+'\\n')\n",
    "    s.write('\\n')\n",
    "    s.write('should_transfer_files = YES'+'\\n')\n",
    "    s.write('request_memory = 5GB'+'\\n')\n",
    "    s.write('\\n')\n",
    "    if SignalSub:\n",
    "        s.write('arguments = -m $(mass) -c $(channel) -p $(profile) -s $(set) -i $(signal) -n $(Ntrials) -f $(file) -b $(bkgtrial) -l'+'\\n')\n",
    "    else:\n",
    "        s.write('arguments = -m $(mass) -c $(channel) -p $(profile) -s $(set) -i $(signal) -n $(Ntrials) -f $(file) -b $(bkgtrial)'+'\\n')\n",
    "\n",
    "    s.write('queue')\n",
    "    s.close()    "
   ]
  },
  {
   "cell_type": "code",
   "execution_count": 124,
   "metadata": {},
   "outputs": [
    {
     "name": "stdout",
     "output_type": "stream",
     "text": [
      "condor_submit_dag -config dagman.config /home/tchau/code/condor_submit/TSdist/WW_8000/TSdist_job0_bkgtrial0_SignalSubTrue_inject0.00042522100510430943_WW_8000_NFW.dag\n",
      "\n",
      "condor_submit_dag -config dagman.config /home/tchau/code/condor_submit/TSdist/WW_8000/TSdist_job1_bkgtrial0_SignalSubTrue_inject0.00042522100510430943_WW_8000_NFW.dag\n",
      "\n",
      "condor_submit_dag -config dagman.config /home/tchau/code/condor_submit/TSdist/WW_8000/TSdist_job2_bkgtrial0_SignalSubTrue_inject0.00042522100510430943_WW_8000_NFW.dag\n",
      "\n",
      "condor_submit_dag -config dagman.config /home/tchau/code/condor_submit/TSdist/WW_8000/TSdist_job3_bkgtrial0_SignalSubTrue_inject0.00042522100510430943_WW_8000_NFW.dag\n",
      "\n",
      "condor_submit_dag -config dagman.config /home/tchau/code/condor_submit/TSdist/WW_8000/TSdist_job4_bkgtrial0_SignalSubTrue_inject0.00042522100510430943_WW_8000_NFW.dag\n",
      "\n",
      "condor_submit_dag -config dagman.config /home/tchau/code/condor_submit/TSdist/WW_8000/TSdist_job5_bkgtrial0_SignalSubTrue_inject0.00042522100510430943_WW_8000_NFW.dag\n",
      "\n",
      "condor_submit_dag -config dagman.config /home/tchau/code/condor_submit/TSdist/WW_8000/TSdist_job6_bkgtrial0_SignalSubTrue_inject0.00042522100510430943_WW_8000_NFW.dag\n",
      "\n",
      "condor_submit_dag -config dagman.config /home/tchau/code/condor_submit/TSdist/WW_8000/TSdist_job7_bkgtrial0_SignalSubTrue_inject0.00042522100510430943_WW_8000_NFW.dag\n",
      "\n",
      "condor_submit_dag -config dagman.config /home/tchau/code/condor_submit/TSdist/WW_8000/TSdist_job8_bkgtrial0_SignalSubTrue_inject0.00042522100510430943_WW_8000_NFW.dag\n",
      "\n",
      "condor_submit_dag -config dagman.config /home/tchau/code/condor_submit/TSdist/WW_8000/TSdist_job9_bkgtrial0_SignalSubTrue_inject0.00042522100510430943_WW_8000_NFW.dag\n",
      "\n"
     ]
    }
   ],
   "source": [
    "submit = '/home/tchau/code/condor_submit/TSdist/submit.sh'\n",
    "path = '/home/tchau/code/condor_submit/TSdist/{}_{}'.format(channel, mass)\n",
    "bkgtrial = 0\n",
    "if not (os.path.exists(path)): os.makedirs(path)\n",
    "with open(submit, 'w') as s:\n",
    "    s.write(\"#!/bin/sh\\n\")\n",
    "    # for j in range(Njobs):\n",
    "    for j in range(10):  \n",
    "        dag_file = '{}/TSdist_job{}_bkgtrial{}_SignalSub{}_inject{}_{}_{}_{}.dag'.format(path, j, bkgtrial, SignalSub, signal, channel, mass, profile)\n",
    "        with open(dag_file, 'w') as f:\n",
    "            if SignalSub:\n",
    "                f.write('JOB TSdist_job{}_bkgtrial{}_SignalSub{}_inject{}_{}_{}_{}.dag'.format(j, bkgtrial, SignalSub, signal, channel, mass, profile)+' TSdist_SignalSubLLH.submit \\n')\n",
    "            else:\n",
    "                f.write('JOB TSdist_job{}_bkgtrial{}_SignalSub{}_inject{}_{}_{}_{}.dag'.format(j, bkgtrial, SignalSub, signal, channel, mass, profile)+' TSdist_NormalLLH.submit \\n')\n",
    "   \n",
    "            f.write('VARS TSdist_job{}_bkgtrial{}_SignalSub{}_inject{}_{}_{}_{}.dag'.format(j, bkgtrial, SignalSub, signal, channel, mass, profile)+' JOBNAME=\"TSdist_job{}_bkgtrial{}_SignalSub{}_inject{}_{}_{}_{}.dag\"'.format(j, bkgtrial, SignalSub, signal, channel, mass, profile) +' mass=\"{}\" channel=\"{}\" profile=\"{}\" set=\"{}\" signal=\"{}\" Ntrials=\"{}\" file=\"{}\" bkgtrial=\"{}\"'.format(mass, channel, profile, set, signal, Ntrials, j, bkgtrial)+'\\n')\n",
    "        f.close()\n",
    "        s.write(\"condor_submit_dag -config dagman.config {}\\n\".format(dag_file))\n",
    "        print(\"condor_submit_dag -config dagman.config {}\\n\".format(dag_file))\n",
    "s.close()"
   ]
  },
  {
   "cell_type": "code",
   "execution_count": null,
   "metadata": {},
   "outputs": [],
   "source": []
  }
 ],
 "metadata": {
  "kernelspec": {
   "display_name": "Python 3.10.2 64-bit",
   "language": "python",
   "name": "python3"
  },
  "language_info": {
   "codemirror_mode": {
    "name": "ipython",
    "version": 3
   },
   "file_extension": ".py",
   "mimetype": "text/x-python",
   "name": "python",
   "nbconvert_exporter": "python",
   "pygments_lexer": "ipython3",
   "version": "3.10.2"
  },
  "orig_nbformat": 4,
  "vscode": {
   "interpreter": {
    "hash": "730d07e719089c4b7a24b2a2e0410899feef1b750c5439b52d6eb1a6fb5405e5"
   }
  }
 },
 "nbformat": 4,
 "nbformat_minor": 2
}
