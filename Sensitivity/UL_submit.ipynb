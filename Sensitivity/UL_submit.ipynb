{
 "cells": [
  {
   "cell_type": "code",
   "execution_count": 5,
   "metadata": {},
   "outputs": [],
   "source": [
    "import os"
   ]
  },
  {
   "cell_type": "code",
   "execution_count": 6,
   "metadata": {},
   "outputs": [],
   "source": [
    "#############################################################################################################\n",
    "#   Create .config, .submit files -> change to your own folder\n",
    "#\n",
    "submit_dir = '/home/tchau/code/condor_submit/UL'\n",
    "logdir = '/scratch/tchau/DM_OscNext/MakePDF/logs/'\n",
    "if not (os.path.exists(submit_dir)): os.makedirs(submit_dir)\n",
    "if not (os.path.exists(logdir)): os.makedirs(logdir)\n",
    "\n",
    "\n",
    "cfig_file = f'{submit_dir}/dagman.config'\n",
    "sub_file = f'{submit_dir}/UL.submit'\n",
    "curdir=os.getcwd()\n",
    "script = f'{curdir}/UpperLimit_LLH_Interval.py'\n",
    "\n",
    "with open(cfig_file, 'w') as c:\n",
    "    c.write('DAGMAN_MAX_JOBS_SUBMITTED=100'+'\\n')\n",
    "    c.write('DAGMAN_MAX_SUBMIT_PER_INTERVAL=20'+'\\n')\n",
    "    c.write('DAGMAN_USER_LOG_SCAN_INTERVAL=10'+'\\n')\n",
    "    c.close()\n",
    "\n",
    "\n",
    "with open(sub_file, 'w') as s:\n",
    "    s.write(f'executable = {script}'+'\\n')\n",
    "    s.write('\\n')\n",
    "    s.write('initialdir = /data/user/tchau/'+'\\n')\n",
    "    s.write(f'logdir = {logdir}'+'\\n')\n",
    "    s.write('output = $(logdir)$(JOBNAME).$(Cluster).out'+'\\n')\n",
    "    s.write('error = $(logdir)$(JOBNAME).$(Cluster).err'+'\\n')\n",
    "    s.write('log = $(logdir)$(JOBNAME).$(Cluster).log'+'\\n')\n",
    "    s.write('\\n')\n",
    "    s.write('notification   = never'+'\\n')\n",
    "    s.write('universe       = vanilla'+'\\n')\n",
    "    s.write('\\n')\n",
    "    s.write('should_transfer_files = YES'+'\\n')\n",
    "    s.write('request_memory = 6GB'+'\\n')\n",
    "    s.write('getenv = True'+'\\n')\n",
    "    s.write('\\n')\n",
    "    s.write('arguments = -c $(c) -p $(p) --process $(proc)  -u $(u) -l $(l) -n $(n) --mc $(mc) -b $(bkg) --nsample $(nsample) --errorJ $(errorJ) --gcinj $(gcinj) --gcmodel $(gcmodel)'+'\\n')\n",
    "    s.write('queue')\n",
    "    s.close()"
   ]
  },
  {
   "cell_type": "code",
   "execution_count": 8,
   "metadata": {},
   "outputs": [
    {
     "name": "stdout",
     "output_type": "stream",
     "text": [
      "condor_submit_dag -config dagman.config /home/tchau/code/condor_submit/UL/UL.dag\n",
      "\n"
     ]
    }
   ],
   "source": [
    "#############################################################################################################\n",
    "#   Create .dag and submit script\n",
    "#\n",
    "submit = f'{submit_dir}/submit.sh'\n",
    "dag_file = '{}/UL.dag'.format(submit_dir)\n",
    "\n",
    "\n",
    "#list of channels and profiles\n",
    "channels = [\"numunumu\"]\n",
    "# channels = [\"WW\",\"bb\",\"tautau\",\"mumu\",\"nuenue\",\"numunumu\",\"nutaunutau\"]\n",
    "profile = ['NFW']\n",
    "# profile = ['NFW','Burkert']\n",
    "\n",
    "\n",
    "# process\n",
    "prcs = [\"ann\", \"decay\"]\n",
    "\n",
    "# Jfactor\n",
    "errorJ = 'nominal' #error1, error2\n",
    "\n",
    "# number of mass scan point\n",
    "n = 30\n",
    "\n",
    "# number of trials for Brazillian bands (0: no trials)\n",
    "nsample = 0\n",
    "\n",
    "# Load a precomputed Background \n",
    "bkgs=['precomp']\n",
    "\n",
    "# MC sample\n",
    "mcs = ['1122']\n",
    "# mcs = ['0000', '1124', '1125', '1126', '1127', '1128', '1129', '1130', '1131', '1132', '1133', '1122_disCSMS', '1122_disCSMSx3', '1122_disCSMSx-3']\n",
    "# mcs = ['1122_disCSMS', '1122_disCSMSx3', '1122_disCSMSx-3']\n",
    "\n",
    "# GP injection and in the LLR\n",
    "# ['None','pi0', 'pi0_IC', 'KRA50', 'KRA50_IC']\n",
    "\n",
    "gcinj = 'None'\n",
    "gcmodel = 'None'\n",
    "\n",
    "# Loops on scenarios and submit jobs for each of them\n",
    "with open(dag_file, 'w') as f:\n",
    "    for bkg in bkgs:\n",
    "        for mc in mcs:\n",
    "            for c in channels:\n",
    "                for p in profile:\n",
    "                    for prc in prcs:\n",
    "                        if prc=='ann':\n",
    "                            masses = {\"WW\":[90, 8000], \"bb\":[15, 8000], 'tautau':[5, 4000], 'mumu':[5, 1000], \"nuenue\":[5, 200],\"numunumu\":[5, 200],\"nutaunutau\":[5,200]}\n",
    "                        elif prc=='decay':    \n",
    "                            masses = {\"WW\":[180, 8000], \"bb\":[30, 8000], 'tautau':[5, 8000], 'mumu':[5, 2000], \"nuenue\":[5, 400],\"numunumu\":[5, 400],\"nutaunutau\":[5,400]}\n",
    "                        # masses = {\"WW\":[180, 8000], \"bb\":[30, 8000], 'tautau':[5, 8000], 'mumu':[5, 2000], \"nuenue\":[1.5, 5],\"numunumu\":[1.5, 5],\"nutaunutau\":[1.5,5]}\n",
    "\n",
    "                            f.write('JOB UL_{}_{}_{}_{}_{}_bkg{}_{}trial_Jf_{}'.format(prc, c,p, n, mc, bkg, nsample, errorJ)+' UL.submit \\n')\n",
    "                            f.write('VARS UL_{}_{}_{}_{}_{}_bkg{}_{}trial_Jf_{}'.format(prc, c , p, n, mc, bkg, nsample, errorJ)\n",
    "                                    +' JOBNAME=\"UL_{}_{}_{}_{}_{}_bkg{}_{}trial_Jf_{}\"'.format(prc, c, p, n, mc, bkg, nsample, errorJ) \n",
    "                                    +' c=\"{}\" p=\"{}\" proc=\"{}\" u=\"{}\" l=\"{}\" n=\"{}\" mc=\"{}\" bkg=\"{}\" nsample=\"{}\" errorJ=\"{}\" gcinj=\"{}\" gcmodel=\"{}\"'.format(c, p, prc, masses[c][1], masses[c][0], n, mc, bkg, nsample, errorJ, gcinj, gcmodel)+'\\n')\n",
    "f.close()\n",
    "with open(submit, 'w') as s:\n",
    "    s.write(\"#!/bin/sh\\n\")\n",
    "    s.write(\"condor_submit_dag -config dagman.config {}\\n\".format(dag_file))\n",
    "    print(\"condor_submit_dag -config dagman.config {}\\n\".format(dag_file))\n",
    "s.close()\n"
   ]
  },
  {
   "cell_type": "code",
   "execution_count": null,
   "metadata": {},
   "outputs": [],
   "source": []
  }
 ],
 "metadata": {
  "kernelspec": {
   "display_name": "Python 3",
   "language": "python",
   "name": "python3"
  },
  "language_info": {
   "codemirror_mode": {
    "name": "ipython",
    "version": 3
   },
   "file_extension": ".py",
   "mimetype": "text/x-python",
   "name": "python",
   "nbconvert_exporter": "python",
   "pygments_lexer": "ipython3",
   "version": "3.10.2"
  },
  "orig_nbformat": 4,
  "vscode": {
   "interpreter": {
    "hash": "730d07e719089c4b7a24b2a2e0410899feef1b750c5439b52d6eb1a6fb5405e5"
   }
  }
 },
 "nbformat": 4,
 "nbformat_minor": 2
}
