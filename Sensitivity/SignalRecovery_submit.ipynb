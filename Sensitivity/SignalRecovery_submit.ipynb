{
 "cells": [
  {
   "cell_type": "code",
   "execution_count": 5,
   "metadata": {},
   "outputs": [],
   "source": [
    "import os"
   ]
  },
  {
   "cell_type": "code",
   "execution_count": 6,
   "metadata": {},
   "outputs": [],
   "source": [
    "\n",
    "cfig_file = '/home/tchau/code/condor_submit/SignalRecovery/dagman.config'\n",
    "with open(cfig_file, 'w') as c:\n",
    "    c.write('DAGMAN_MAX_JOBS_SUBMITTED=500'+'\\n')\n",
    "    c.write('DAGMAN_MAX_SUBMIT_PER_INTERVAL=20'+'\\n')\n",
    "    c.write('DAGMAN_USER_LOG_SCAN_INTERVAL=10'+'\\n')\n",
    "    c.close()\n",
    "\n",
    "sub_file = '/home/tchau/code/condor_submit/SignalRecovery/SignalRecovery.submit'\n",
    "\n",
    "with open(sub_file, 'w') as s:\n",
    "    s.write('executable = /data/user/tchau/Sandbox/GC_OscNext/Sensitivity/SignalRecovery.py'+'\\n')\n",
    "    s.write('\\n')\n",
    "    s.write('initialdir = /data/user/tchau/'+'\\n')\n",
    "    s.write('logdir = /scratch/tchau/DM_OscNext/MakePDF/logs/'+'\\n')\n",
    "    s.write('output = $(logdir)$(JOBNAME).$(Cluster).out'+'\\n')\n",
    "    s.write('error = $(logdir)$(JOBNAME).$(Cluster).err'+'\\n')\n",
    "    s.write('log = $(logdir)$(JOBNAME).$(Cluster).log'+'\\n')\n",
    "    s.write('\\n')\n",
    "    s.write('notification   = never'+'\\n')\n",
    "    s.write('universe       = vanilla'+'\\n')\n",
    "    s.write('\\n')\n",
    "    s.write('should_transfer_files = YES'+'\\n')\n",
    "    s.write('request_memory = 8GB'+'\\n')\n",
    "    s.write('getenv = True'+'\\n')\n",
    "    s.write('\\n')\n",
    "    s.write('arguments = -m $(mass) -c $(channel) -p $(profile) --process $(proc) --mcfit $(mcfit) --mcinj $(mcinj) --llh $(llh) --gpinj $(gcinj) --gpmodel $(gcmodel)'+'\\n')\n",
    "\n",
    "    s.write('queue')\n",
    "    s.close()"
   ]
  },
  {
   "cell_type": "code",
   "execution_count": 7,
   "metadata": {},
   "outputs": [
    {
     "name": "stdout",
     "output_type": "stream",
     "text": [
      "condor_submit_dag -config dagman.config /home/tchau/code/condor_submit/SignalRecovery//SignalRecovery.dag\n",
      "\n"
     ]
    }
   ],
   "source": [
    "path = '/home/tchau/code/condor_submit/SignalRecovery/'\n",
    "if not (os.path.exists(path)): os.makedirs(path)\n",
    "submit = '/home/tchau/code/condor_submit/SignalRecovery/submit.sh'\n",
    "\n",
    "channels = ['numunumu', 'bb', 'WW']\n",
    "# channels = ['WW']\n",
    "\n",
    "profiles = ['NFW', 'Burkert']\n",
    "process = ['ann', 'decay']\n",
    "masses = [200, 2000]\n",
    "\n",
    "mcs = ['1122']\n",
    "# mcs = ['0000', '1122', '1124', '1125', '1126', '1127', '1128', '1129', '1130', '1131', '1132', '1133']\n",
    "# mcs = ['1122_dis_CSMS', '1122_disCSMSx3', '1122_disCSMSx-3']\n",
    "# mcs = ['1122']\n",
    "\n",
    "# llhs = ['SignalSub', 'Normal']\n",
    "llhs = ['SignalSub']\n",
    "#['pi0', 'pi0_IC', 'KRA50_IC',  'KRA50']\n",
    "# gcmodels = ['pi0', 'pi0_IC', 'KRA50_IC', 'KRA50']\n",
    "gcinjs = ['None']\n",
    "gcmodels = ['None']\n",
    "\n",
    "dag_file = '{}/SignalRecovery.dag'.format(path)\n",
    "with open(dag_file, 'w') as f:\n",
    "    for channel in channels:\n",
    "        for profile in profiles:\n",
    "            for proc in process:\n",
    "                for mass in masses:\n",
    "                    for mcfit in ['1122']:\n",
    "                        for mcinj in mcs:\n",
    "                            for llh in llhs:\n",
    "                                for gcinj in gcinjs:\n",
    "                                    for gcmodel in gcmodels:\n",
    "                                        f.write('JOB SR_{}_{}_{}_{}GeV_MCfit{}_MCinj{}_{}_gcinj{}_gcmodel{}.dag'.format(proc, channel, profile, mass, mcfit, mcinj, llh, gcinj, gcmodel)+' SignalRecovery.submit \\n')\n",
    "                                        f.write('VARS SR_{}_{}_{}_{}GeV_MCfit{}_MCinj{}_{}_gcinj{}_gcmodel{}.dag'.format(proc, channel, profile, mass, mcfit, mcinj, llh, gcinj, gcmodel)\n",
    "                                                +' JOBNAME=\"SR_{}_{}_{}_{}GeV_MCfit{}_MCinj{}_{}_gcinj{}_gcmodel{}\"'.format(proc, channel, profile, mass, mcfit, mcinj, llh, gcinj, gcmodel) \n",
    "                                                +' mass=\"{}\" channel=\"{}\" profile=\"{}\" proc=\"{}\" mcfit=\"{}\" mcinj=\"{}\" llh=\"{}\" gcinj=\"{}\" gcmodel=\"{}\" '.format(mass, channel , profile, proc, mcfit, mcinj, llh, gcinj, gcmodel)+'\\n')\n",
    "f.close()\n",
    "\n",
    "with open(submit, 'w') as s:\n",
    "    s.write(\"#!/bin/sh\\n\")\n",
    "    s.write(\"condor_submit_dag -config dagman.config {}\\n\".format(dag_file))\n",
    "    print(\"condor_submit_dag -config dagman.config {}\\n\".format(dag_file))\n",
    "s.close()"
   ]
  },
  {
   "attachments": {},
   "cell_type": "markdown",
   "metadata": {},
   "source": [
    "# <font color=\"darkmagenta\"> Different Jfactor options </font>"
   ]
  },
  {
   "cell_type": "code",
   "execution_count": 8,
   "metadata": {},
   "outputs": [],
   "source": [
    "\n",
    "cfig_file = '/home/tchau/code/condor_submit/SignalRecovery/dagman.config'\n",
    "with open(cfig_file, 'w') as c:\n",
    "    c.write('DAGMAN_MAX_JOBS_SUBMITTED=500'+'\\n')\n",
    "    c.write('DAGMAN_MAX_SUBMIT_PER_INTERVAL=20'+'\\n')\n",
    "    c.write('DAGMAN_USER_LOG_SCAN_INTERVAL=10'+'\\n')\n",
    "    c.close()\n",
    "\n",
    "sub_file = '/home/tchau/code/condor_submit/SignalRecovery/SignalRecovery_Jfactor.submit'\n",
    "\n",
    "with open(sub_file, 'w') as s:\n",
    "    s.write('executable = /data/user/tchau/Sandbox/GC_OscNext/Sensitivity/SignalRecovery.py'+'\\n')\n",
    "    s.write('\\n')\n",
    "    s.write('initialdir = /data/user/tchau/'+'\\n')\n",
    "    s.write('logdir = /scratch/tchau/DM_OscNext/MakePDF/logs/'+'\\n')\n",
    "    s.write('output = $(logdir)$(JOBNAME).$(Cluster).out'+'\\n')\n",
    "    s.write('error = $(logdir)$(JOBNAME).$(Cluster).err'+'\\n')\n",
    "    s.write('log = $(logdir)$(JOBNAME).$(Cluster).log'+'\\n')\n",
    "    s.write('\\n')\n",
    "    s.write('notification   = never'+'\\n')\n",
    "    s.write('universe       = vanilla'+'\\n')\n",
    "    s.write('\\n')\n",
    "    s.write('should_transfer_files = YES'+'\\n')\n",
    "    s.write('request_memory = 8GB'+'\\n')\n",
    "    s.write('getenv = True'+'\\n')\n",
    "    s.write('\\n')\n",
    "    s.write('arguments = -m $(mass) -c $(channel) -p $(profile) --Jfit $(Jfit) --Jinj $(Jinj) --llh $(llh)'+'\\n')\n",
    "\n",
    "    s.write('queue')\n",
    "    s.close()    "
   ]
  },
  {
   "cell_type": "code",
   "execution_count": 9,
   "metadata": {},
   "outputs": [
    {
     "name": "stdout",
     "output_type": "stream",
     "text": [
      "condor_submit_dag -config dagman.config /home/tchau/code/condor_submit/SignalRecovery//SR_Jerror.dag\n",
      "\n"
     ]
    }
   ],
   "source": [
    "path = '/home/tchau/code/condor_submit/SignalRecovery/'\n",
    "if not (os.path.exists(path)): os.makedirs(path)\n",
    "submit = '/home/tchau/code/condor_submit/SignalRecovery/submit.sh'\n",
    "\n",
    "channels = ['WW', 'numunumu']\n",
    "profiles = ['NFW']\n",
    "masses = [100]\n",
    "Js = ['errors1', 'errors2']\n",
    "\n",
    "# llhs = ['SignalSub', 'Normal']\n",
    "llhs = ['SignalSub']\n",
    "\n",
    "if not (os.path.exists(path)): os.makedirs(path)\n",
    "\n",
    "dag_file = '{}/SR_Jerror.dag'.format(path)\n",
    "with open(dag_file, 'w') as f:\n",
    "    for channel in channels:\n",
    "        for profile in profiles:\n",
    "            for mass in masses:\n",
    "                for Jfit in ['nominal']:\n",
    "                    for Jinj in Js:\n",
    "                        for llh in llhs:\n",
    "                            f.write('JOB SR_{}_{}_{}GeV_Jfit{}_Jinj{}_{}.dag'.format(channel, profile, mass, Jfit, Jinj, llh)+' SignalRecovery_Jfactor.submit \\n')\n",
    "                            f.write('VARS SR_{}_{}_{}GeV_Jfit{}_Jinj{}_{}.dag'.format(channel, profile, mass, Jfit, Jinj, llh)+' JOBNAME=\"SR_{}_{}_{}GeV_Jfit{}_Jinj{}_{}\"'.format(channel, profile, mass, Jfit, Jinj, llh) \n",
    "                                    +' mass=\"{}\" channel=\"{}\" profile=\"{}\" Jfit=\"{}\" Jinj=\"{}\" llh=\"{}\"'.format(mass, channel , profile, Jfit, Jinj, llh)+'\\n')\n",
    "f.close()\n",
    "with open(submit, 'w') as s:\n",
    "    s.write(\"#!/bin/sh\\n\")\n",
    "    s.write(\"condor_submit_dag -config dagman.config {}\\n\".format(dag_file))\n",
    "    print(\"condor_submit_dag -config dagman.config {}\\n\".format(dag_file))\n",
    "s.close()"
   ]
  },
  {
   "cell_type": "code",
   "execution_count": null,
   "metadata": {},
   "outputs": [],
   "source": []
  }
 ],
 "metadata": {
  "kernelspec": {
   "display_name": "Python 3.10.2 64-bit",
   "language": "python",
   "name": "python3"
  },
  "language_info": {
   "codemirror_mode": {
    "name": "ipython",
    "version": 3
   },
   "file_extension": ".py",
   "mimetype": "text/x-python",
   "name": "python",
   "nbconvert_exporter": "python",
   "pygments_lexer": "ipython3",
   "version": "3.10.2"
  },
  "orig_nbformat": 4,
  "vscode": {
   "interpreter": {
    "hash": "730d07e719089c4b7a24b2a2e0410899feef1b750c5439b52d6eb1a6fb5405e5"
   }
  }
 },
 "nbformat": 4,
 "nbformat_minor": 2
}
