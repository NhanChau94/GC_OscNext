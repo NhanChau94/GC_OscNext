{
 "cells": [
  {
   "cell_type": "code",
   "execution_count": 17,
   "metadata": {},
   "outputs": [],
   "source": [
    "import os\n",
    "mass=200\n",
    "# channel=\"WW\"\n",
    "channel=\"numunumu\"\n",
    "\n",
    "profile='NFW'\n",
    "mcinj=\"1122\"\n",
    "mcfit=\"1122\"\n",
    "process='ann'\n",
    "bkgtrial=0\n",
    "Ntrials = 2000\n",
    "Njobs = 5\n",
    "SignalSub = True\n"
   ]
  },
  {
   "cell_type": "code",
   "execution_count": 18,
   "metadata": {},
   "outputs": [],
   "source": [
    "#############################################################################################################\n",
    "#   Create .config, .submit files -> change to your own folder\n",
    "#\n",
    "submit_dir = '/home/tchau/code/condor_submit/TSdist'\n",
    "logdir = '/scratch/tchau/DM_OscNext/MakePDF/logs/'\n",
    "if not (os.path.exists(submit_dir)): os.makedirs(submit_dir)\n",
    "if not (os.path.exists(logdir)): os.makedirs(logdir)\n",
    "\n",
    "cfig_file = f'{submit_dir}/dagman.config'\n",
    "curdir=os.getcwd()\n",
    "script = f'{curdir}/TS_distribution.py'\n",
    "\n",
    "cfig_file = f'{submit_dir}/dagman.config'\n",
    "with open(cfig_file, 'w') as c:\n",
    "    c.write('DAGMAN_MAX_JOBS_SUBMITTED=500'+'\\n')\n",
    "    c.write('DAGMAN_MAX_SUBMIT_PER_INTERVAL=20'+'\\n')\n",
    "    c.write('DAGMAN_USER_LOG_SCAN_INTERVAL=10'+'\\n')\n",
    "    c.close()\n",
    "if SignalSub:\n",
    "    sub_file = f'{submit_dir}/TSdist_SignalSubLLH.submit'\n",
    "else:\n",
    "    sub_file = f'{submit_dir}/TSdist_NormalLLH.submit'\n",
    "\n",
    "with open(sub_file, 'w') as s:\n",
    "    s.write(f'executable = {script}'+'\\n')\n",
    "    s.write('\\n')\n",
    "    s.write('initialdir = /data/user/tchau/'+'\\n')\n",
    "    s.write(f'logdir = {logdir}'+'\\n')\n",
    "    s.write('output = $(logdir)$(JOBNAME).$(Cluster).out'+'\\n')\n",
    "    s.write('error = $(logdir)$(JOBNAME).$(Cluster).err'+'\\n')\n",
    "    s.write('log = $(logdir)$(JOBNAME).$(Cluster).log'+'\\n')\n",
    "    s.write('\\n')\n",
    "    s.write('notification   = never'+'\\n')\n",
    "    s.write('universe       = vanilla'+'\\n')\n",
    "    s.write('\\n')\n",
    "    s.write('should_transfer_files = YES'+'\\n')\n",
    "    s.write('request_memory = 8GB'+'\\n')\n",
    "    s.write('getenv = True'+'\\n')\n",
    "\n",
    "    s.write('\\n')\n",
    "    if SignalSub:\n",
    "        s.write('arguments = -m $(mass) -c $(channel) -p $(profile) --process $(proc) --mcinj $(mcinj) --mcfit $(mcfit) --bkgtrial $(bkgtrial)  -n $(Ntrials) -f $(file) --signalsub --GPmodel $(gpmodel) --GPinject $(gpinject)'+'\\n')\n",
    "    else:\n",
    "        s.write('arguments = -m $(mass) -c $(channel) -p $(profile) --process $(proc) --mcinj $(mcinj) --mcfit $(mcfit) --bkgtrial $(bkgtrial)  -n $(Ntrials) -f $(file) --GPmodel $(gpmodel) --GPinject $(gpinject)'+'\\n')\n",
    "\n",
    "    s.write('queue')\n",
    "    s.close()    "
   ]
  },
  {
   "cell_type": "code",
   "execution_count": 19,
   "metadata": {},
   "outputs": [
    {
     "name": "stdout",
     "output_type": "stream",
     "text": [
      "condor_submit_dag -config dagman.config /home/tchau/code/condor_submit/TSdist/numunumu_200/TSdist_SignalSubFalse_numunumu_200_NFW_ann_bkgtrial0_mcinj1122_mcfit1122_gpinjNone_gpmodelNone.dag\n",
      "\n"
     ]
    }
   ],
   "source": [
    "submit = '/home/tchau/code/condor_submit/TSdist/submit.sh'\n",
    "path = '/home/tchau/code/condor_submit/TSdist/{}_{}'.format(channel, mass)\n",
    "if not (os.path.exists(path)): os.makedirs(path)\n",
    "\n",
    "# gpinjs = [None, 'pi0', 'pi0_IC', 'KRA50', 'KRA50_IC']\n",
    "# gpmodels = [None, 'pi0', 'pi0_IC', 'KRA50', 'KRA50_IC']\n",
    "gpinjs = [None]\n",
    "gpmodels = [None]\n",
    "\n",
    "with open(submit, 'w') as s:\n",
    "    s.write(\"#!/bin/sh\\n\")\n",
    "    for gpinj in gpinjs:\n",
    "        for gpmodel in gpmodels:\n",
    "            dag_file = f'{path}/TSdist_SignalSub{SignalSub}_{channel}_{mass}_{profile}_{process}_bkgtrial{bkgtrial}_mcinj{mcinj}_mcfit{mcfit}_gpinj{gpinj}_gpmodel{gpmodel}.dag'\n",
    "            with open(dag_file, 'w') as f:\n",
    "                for j in range(Njobs):\n",
    "                # for j in range(10):  \n",
    "\n",
    "                        if SignalSub:\n",
    "                            f.write(f'JOB TSdist_job{j}_SignalSub{SignalSub}_{channel}_{mass}_{profile}_{process}_bkgtrial{bkgtrial}_mcinj{mcinj}_mcfit{mcfit}_gpinj{gpinj}_gpmodel{gpmodel}' +' TSdist_SignalSubLLH.submit \\n')\n",
    "                        else:\n",
    "                            f.write(f'JOB TSdist_job{j}_SignalSub{SignalSub}_{channel}_{mass}_{profile}_{process}_bkgtrial{bkgtrial}_mcinj{mcinj}_mcfit{mcfit}_gpinj{gpinj}_gpmodel{gpmodel}'+' TSdist_NormalLLH.submit \\n')\n",
    "            \n",
    "                        f.write(f'VARS TSdist_job{j}_SignalSub{SignalSub}_{channel}_{mass}_{profile}_{process}_bkgtrial{bkgtrial}_mcinj{mcinj}_mcfit{mcfit}_gpinj{gpinj}_gpmodel{gpmodel}'+\n",
    "                                f' JOBNAME=\"TSdist_job{j}_SignalSub{SignalSub}_{channel}_{mass}_{profile}_{process}_bkgtrial{bkgtrial}_mcinj{mcinj}_mcfit{mcfit}_gpinj{gpinj}_gpmodel{gpmodel}\"' \n",
    "                                +' mass=\"{}\" channel=\"{}\" profile=\"{}\" proc=\"{}\" bkgtrial=\"{}\" mcinj=\"{}\" mcfit=\"{}\" Ntrials=\"{}\" file=\"{}\" gpmodel=\"{}\" gpinject=\"{}\" '.format(mass, channel, profile, process, bkgtrial,mcinj, mcfit, Ntrials, j, gpmodel, gpinj)+'\\n')\n",
    "            f.close()\n",
    "            s.write(\"condor_submit_dag -config dagman.config {}\\n\".format(dag_file))\n",
    "            print(\"condor_submit_dag -config dagman.config {}\\n\".format(dag_file))\n",
    "s.close()"
   ]
  },
  {
   "cell_type": "code",
   "execution_count": null,
   "metadata": {},
   "outputs": [],
   "source": []
  }
 ],
 "metadata": {
  "kernelspec": {
   "display_name": "Python 3.10.2 64-bit",
   "language": "python",
   "name": "python3"
  },
  "language_info": {
   "codemirror_mode": {
    "name": "ipython",
    "version": 3
   },
   "file_extension": ".py",
   "mimetype": "text/x-python",
   "name": "python",
   "nbconvert_exporter": "python",
   "pygments_lexer": "ipython3",
   "version": "3.10.2"
  },
  "orig_nbformat": 4,
  "vscode": {
   "interpreter": {
    "hash": "730d07e719089c4b7a24b2a2e0410899feef1b750c5439b52d6eb1a6fb5405e5"
   }
  }
 },
 "nbformat": 4,
 "nbformat_minor": 2
}
