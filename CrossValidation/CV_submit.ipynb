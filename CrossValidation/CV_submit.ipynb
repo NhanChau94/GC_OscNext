{
 "cells": [
  {
   "cell_type": "code",
   "execution_count": 1,
   "metadata": {},
   "outputs": [],
   "source": [
    "import os"
   ]
  },
  {
   "cell_type": "code",
   "execution_count": 2,
   "metadata": {},
   "outputs": [],
   "source": [
    "cfig_file = '/home/tchau/code/condor_submit/CV_bandwidth/dagman.config'\n",
    "with open(cfig_file, 'w') as c:\n",
    "    c.write('DAGMAN_MAX_JOBS_SUBMITTED=500'+'\\n')\n",
    "    c.write('DAGMAN_MAX_SUBMIT_PER_INTERVAL=20'+'\\n')\n",
    "    c.write('DAGMAN_USER_LOG_SCAN_INTERVAL=10'+'\\n')\n",
    "    c.close()\n",
    "\n",
    "sub_file = '/home/tchau/code/condor_submit/CV_bandwidth/CV_weight.submit'\n",
    "with open(sub_file, 'w') as s:\n",
    "    s.write('executable = /data/user/tchau/Sandbox/GC_OscNext/CrossValidation/CV_bandwidth.py'+'\\n')\n",
    "    s.write('\\n')\n",
    "    s.write('initialdir = /data/user/tchau/'+'\\n')\n",
    "    s.write('logdir = /scratch/tchau/DM_OscNext/MakePDF/logs/'+'\\n')\n",
    "    s.write('output = $(logdir)$(JOBNAME).$(Cluster).out'+'\\n')\n",
    "    s.write('error = $(logdir)$(JOBNAME).$(Cluster).err'+'\\n')\n",
    "    s.write('log = $(logdir)$(JOBNAME).$(Cluster).log'+'\\n')\n",
    "    s.write('\\n')\n",
    "    s.write('notification   = never'+'\\n')\n",
    "    s.write('universe       = vanilla'+'\\n')\n",
    "    s.write('\\n')\n",
    "    s.write('should_transfer_files = YES'+'\\n')\n",
    "    s.write('request_memory = 5GB'+'\\n')\n",
    "    s.write('requestCpus=2')\n",
    "    s.write('\\n')\n",
    "    s.write('arguments = -v $(var) -n $(nu) -p $(pid) -w'+'\\n')\n",
    "    s.write('queue')\n",
    "    s.close()\n",
    "\n",
    "sub_file = '/home/tchau/code/condor_submit/CV_bandwidth/CV_noweight.submit'\n",
    "with open(sub_file, 'w') as s:\n",
    "    s.write('executable = /data/user/tchau/Sandbox/GC_OscNext/CrossValidation/CV_bandwidth.py'+'\\n')\n",
    "    s.write('\\n')\n",
    "    s.write('initialdir = /data/user/tchau/'+'\\n')\n",
    "    s.write('logdir = /scratch/tchau/DM_OscNext/MakePDF/logs/'+'\\n')\n",
    "    s.write('output = $(logdir)$(JOBNAME).$(Cluster).out'+'\\n')\n",
    "    s.write('error = $(logdir)$(JOBNAME).$(Cluster).err'+'\\n')\n",
    "    s.write('log = $(logdir)$(JOBNAME).$(Cluster).log'+'\\n')\n",
    "    s.write('\\n')\n",
    "    s.write('notification   = never'+'\\n')\n",
    "    s.write('universe       = vanilla'+'\\n')\n",
    "    s.write('\\n')\n",
    "    s.write('should_transfer_files = YES'+'\\n')\n",
    "    s.write('request_memory = 5GB'+'\\n')\n",
    "    s.write('requestCpus=2')\n",
    "    s.write('\\n')\n",
    "    s.write('arguments = -v $(var) -n $(nu) -p $(pid)'+'\\n')\n",
    "    s.write('queue')\n",
    "    s.close()\n",
    "\n",
    "\n"
   ]
  },
  {
   "cell_type": "code",
   "execution_count": 5,
   "metadata": {},
   "outputs": [],
   "source": [
    "nutypes=[\"nu_e\", \"nu_mu\", \"nu_tau\", \"nu_e_bar\", \"nu_mu_bar\", \"nu_tau_bar\"]\n",
    "pids = [-1,0,1,2]\n",
    "# var = '2Dtrue'\n",
    "var = '4D'\n",
    "weight = True\n",
    "submit = '/home/tchau/code/condor_submit/CV_bandwidth/submit.sh'\n",
    "\n",
    "with open(submit, 'w') as s:\n",
    "    s.write(\"#!/bin/sh\\n\")\n",
    "    for nu in nutypes:\n",
    "        for pid in pids:\n",
    "            path = '/home/tchau/code/condor_submit/CV_bandwidth'\n",
    "            dag_file = '{}/CV_Bandwith_{}_pid{}_{}_weight{}.dag'.format(path, nu, pid, var, weight)\n",
    "            with open(dag_file, 'w') as f:\n",
    "                f.write('JOB CV_Bandwith_{}_pid{}_{}_weight{}'.format(nu, pid, var, weight)+' CV_weight.submit \\n')\n",
    "                f.write('VARS CV_Bandwith_{}_pid{}_{}_weight{}'.format(nu, pid, var, weight)+' JOBNAME=\"CV_Bandwith_{}_pid{}_{}_weight{}\"'.format(nu, pid, var, weight) +' nu=\"{}\" pid=\"{}\" var=\"{}\"'.format(nu, pid, var)+'\\n')\n",
    "            f.close()\n",
    "            s.write(\"condor_submit_dag -config dagman.config {} \\n\".format(dag_file))\n",
    "s.close()"
   ]
  },
  {
   "cell_type": "code",
   "execution_count": null,
   "metadata": {},
   "outputs": [],
   "source": []
  }
 ],
 "metadata": {
  "kernelspec": {
   "display_name": "Python 3.7.5 64-bit",
   "language": "python",
   "name": "python3"
  },
  "language_info": {
   "codemirror_mode": {
    "name": "ipython",
    "version": 3
   },
   "file_extension": ".py",
   "mimetype": "text/x-python",
   "name": "python",
   "nbconvert_exporter": "python",
   "pygments_lexer": "ipython3",
   "version": "3.7.5"
  },
  "orig_nbformat": 4,
  "vscode": {
   "interpreter": {
    "hash": "84067930ed89f2593bb91d950da6b1dbb20734c45bac648e0897da8a2cb00bd6"
   }
  }
 },
 "nbformat": 4,
 "nbformat_minor": 2
}
