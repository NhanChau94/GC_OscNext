{
 "cells": [
  {
   "cell_type": "code",
   "execution_count": 1,
   "metadata": {},
   "outputs": [],
   "source": [
    "# condor_submit_dag -config dagman.config *script_path*/PDFs/Submit/TS_SignalPDF_1X0000_3D_PIDpsiE_FinalL7_sklearnKDE_0.03Bandwith_PPPC4.dag\n",
    "package = \"kde\"\n",
    "bandwidth = \"adaptive\""
   ]
  },
  {
   "cell_type": "code",
   "execution_count": 2,
   "metadata": {},
   "outputs": [],
   "source": [
    "\n",
    "\n",
    "cfig_file = '/home/tchau/code/condor_submit/dagman.config'\n",
    "with open(cfig_file, 'w') as c:\n",
    "    c.write('DAGMAN_MAX_JOBS_SUBMITTED=100'+'\\n')\n",
    "    c.write('DAGMAN_MAX_SUBMIT_PER_INTERVAL=20'+'\\n')\n",
    "    c.write('DAGMAN_USER_LOG_SCAN_INTERVAL=10'+'\\n')\n",
    "    c.close()\n",
    "\n",
    "sub_file = '/home/tchau/code/condor_submit/Resp_KDE.submit'\n",
    "with open(sub_file, 'w') as s:\n",
    "    s.write('executable = /data/user/tchau/Sandbox/GC_OscNext/DetResponse/KDE_RespMatrix.py'+'\\n')\n",
    "    s.write('\\n')\n",
    "    s.write('initialdir = /data/user/tchau/'+'\\n')\n",
    "    s.write('logdir = /scratch/tchau/DM_OscNext/MakePDF/logs/'+'\\n')\n",
    "    s.write('output = $(logdir)$(JOBNAME).$(Cluster).out'+'\\n')\n",
    "    s.write('error = $(logdir)$(JOBNAME).$(Cluster).err'+'\\n')\n",
    "    s.write('log = $(logdir)$(JOBNAME).$(Cluster).log'+'\\n')\n",
    "    s.write('\\n')\n",
    "    s.write('notification   = never'+'\\n')\n",
    "    s.write('universe       = vanilla'+'\\n')\n",
    "    s.write('\\n')\n",
    "    s.write('should_transfer_files = YES'+'\\n')\n",
    "    s.write('request_memory = 25GB'+'\\n')\n",
    "    s.write('\\n')\n",
    "    s.write('arguments = -b $(bandwidth) -m $(package) -n $(nu) -p $(pid)'+'\\n')\n",
    "    s.write('queue')\n",
    "    s.close()\n",
    "\n",
    "nutypes=[\"nu_e\", \"nu_mu\", \"nu_tau\", \"nu_e_bar\", \"nu_mu_bar\", \"nu_tau_bar\"]\n",
    "pids = [0,1,2]\n",
    "for nu in nutypes:\n",
    "    for pid in pids:\n",
    "        dag_file = '/home/tchau/code/condor_submit/RespKDE_{}_Bandwith_{}_{}_pid{}.dag'.format(package, bandwidth, nu, pid)\n",
    "        with open(dag_file, 'w') as f:\n",
    "            f.write('JOB RespKDE_{}_Bandwith_{}_{}_pid{}'.format(package, bandwidth, nu, pid)+' Resp_KDE.submit \\n')\n",
    "            f.write('VARS RespKDE_{}_Bandwith_{}_{}_pid{}'.format(package, bandwidth, nu, pid)+' JOBNAME=\"RespKDE_{}_Bandwith_{}_{}_pid{}\"'.format(package, bandwidth, nu, pid) +' bandwidth=\"{}\" package=\"{}\" nu=\"{}\" pid=\"{}\"'.format(bandwidth, package, nu, pid)+'\\n')\n",
    "        f.close()\n"
   ]
  },
  {
   "cell_type": "markdown",
   "metadata": {},
   "source": [
    "Precomputed in logE and normal psi"
   ]
  },
  {
   "cell_type": "code",
   "execution_count": 3,
   "metadata": {},
   "outputs": [],
   "source": [
    "cfig_file = '/home/tchau/code/condor_submit/RespMatrix/dagman.config'\n",
    "with open(cfig_file, 'w') as c:\n",
    "    c.write('DAGMAN_MAX_JOBS_SUBMITTED=100'+'\\n')\n",
    "    c.write('DAGMAN_MAX_SUBMIT_PER_INTERVAL=20'+'\\n')\n",
    "    c.write('DAGMAN_USER_LOG_SCAN_INTERVAL=10'+'\\n')\n",
    "    c.close()\n",
    "\n",
    "sub_file = '/home/tchau/code/condor_submit/RespMatrix/Resp.submit'\n",
    "with open(sub_file, 'w') as s:\n",
    "    s.write('executable = /data/user/tchau/Sandbox/GC_OscNext/DetResponse/RespMatrix.py'+'\\n')\n",
    "    s.write('\\n')\n",
    "    s.write('initialdir = /data/user/tchau/'+'\\n')\n",
    "    s.write('logdir = /scratch/tchau/DM_OscNext/MakePDF/logs/'+'\\n')\n",
    "    s.write('output = $(logdir)$(JOBNAME).$(Cluster).out'+'\\n')\n",
    "    s.write('error = $(logdir)$(JOBNAME).$(Cluster).err'+'\\n')\n",
    "    s.write('log = $(logdir)$(JOBNAME).$(Cluster).log'+'\\n')\n",
    "    s.write('\\n')\n",
    "    s.write('notification   = never'+'\\n')\n",
    "    s.write('universe       = vanilla'+'\\n')\n",
    "    s.write('\\n')\n",
    "    s.write('should_transfer_files = YES'+'\\n')\n",
    "    s.write('request_memory = 25GB'+'\\n')\n",
    "    s.write('\\n')\n",
    "    s.write('arguments = -s $(set)'+'\\n')\n",
    "    s.write('queue')\n",
    "    s.close()\n",
    "\n",
    "set = ['0000', '0001', '0004', '0100', '0101', '0102', '0103', '0104', '0105', '0106', '0107', '0109', '0152', '0500', '0501', '0502', '0503', '1122']\n",
    "submit = '/home/tchau/code/condor_submit/RespMatrix/submit.sh'\n",
    "with open(submit, 'w') as sub:\n",
    "    sub.write(\"#!/bin/sh\\n\")\n",
    "    for s in set:\n",
    "        dag_file = '/home/tchau/code/condor_submit/RespMatrix/RespKDEFFT_MCset{}.dag'.format(s)\n",
    "        with open(dag_file, 'w') as f:\n",
    "            f.write('JOB RespKDEFFT_MCset{}'.format(s)+' Resp.submit \\n')\n",
    "            f.write('VARS RespKDEFFT_MCset{}'.format(s)+' JOBNAME=\"RespKDEFFT_MCset{}\"'.format(s) +' set=\"{}\"'.format(s)+'\\n')\n",
    "        f.close()\n",
    "        sub.write(\"condor_submit_dag -config dagman.config {} \\n\".format(dag_file))\n"
   ]
  },
  {
   "cell_type": "code",
   "execution_count": null,
   "metadata": {},
   "outputs": [],
   "source": []
  }
 ],
 "metadata": {
  "kernelspec": {
   "display_name": "Python 3",
   "language": "python",
   "name": "python3"
  },
  "orig_nbformat": 4,
  "vscode": {
   "interpreter": {
    "hash": "730d07e719089c4b7a24b2a2e0410899feef1b750c5439b52d6eb1a6fb5405e5"
   }
  }
 },
 "nbformat": 4,
 "nbformat_minor": 2
}
